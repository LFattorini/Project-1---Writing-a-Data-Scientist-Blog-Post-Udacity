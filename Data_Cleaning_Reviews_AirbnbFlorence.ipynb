{
 "cells": [
  {
   "cell_type": "markdown",
   "id": "60791a6d-1b72-4a31-b763-760e2c8d826c",
   "metadata": {},
   "source": [
    "# Data Cleaning and Pre-processing\n",
    "\n",
    "### Airbnb Reviews from the city of Florence\n",
    "\n",
    "\n",
    "**Open-source data** from: <br>\n",
    "http://insideairbnb.com/get-the-data.html (data compiled: 12 July, 2021)\n",
    "\n",
    "The raw dataset contains **534,217 reviews per 8,562 listings**, with an **average of  62.39 comments per listing** and a **standard deviation of  87.23**.\n",
    "\n",
    "After running the following steps, we selected a **representative random sample of 51,047 reviews** (10% of the original dataset), preserving the language shares. Then, we used the sample in the Sentiment, Topic modeling, Topic classification analysis.\n",
    "\n",
    "- Drop missing data\n",
    "- Drop automatic comments where the host cancelled reservation\n",
    "- Remove punctuation, emoji, numbers, duplicates\n",
    "- Identify language of comments (langdetect https://pypi.org/project/langdetect/)\n",
    "- Keep only comments written in en, it, fr, es, de, pt, ru. Other languages are neglible\n",
    "- Translate comments in  it, fr, es, de, pt, ru to English (https://pypi.org/project/deep-translator/).\n",
    "\n"
   ]
  },
  {
   "cell_type": "markdown",
   "id": "120e7539-56bd-49b0-bc80-1de9978d8d6b",
   "metadata": {},
   "source": [
    "## Import Libraries"
   ]
  },
  {
   "cell_type": "code",
   "execution_count": 62,
   "id": "7c803da5-7462-47d6-bd15-bab4ebfc1589",
   "metadata": {},
   "outputs": [],
   "source": [
    "import numpy as np\n",
    "import pandas as pd\n",
    "import matplotlib.pyplot as plt\n",
    "import re\n",
    "import string\n",
    "\n",
    "from langdetect import detect\n",
    "from deep_translator import GoogleTranslator\n",
    "\n",
    "from tqdm import tqdm\n",
    "tqdm.pandas()\n",
    "\n",
    "from textblob import TextBlob\n",
    "\n",
    "import seaborn as sns\n",
    "sns.set_theme(style=\"whitegrid\")\n",
    "\n",
    "#import shapely\n",
    "#from shapely.geometry import Point\n",
    "\n",
    "import pickle \n",
    "\n",
    "import importlib\n",
    "\n",
    "import nltk\n",
    "from nltk.stem import WordNetLemmatizer\n",
    "#nltk.download('wordnet')\n",
    "\n",
    "from nltk.stem.porter import PorterStemmer\n",
    "porter_stemmer = PorterStemmer()\n",
    "\n",
    "from nltk.tokenize import word_tokenize\n",
    "\n",
    "import itertools"
   ]
  },
  {
   "cell_type": "code",
   "execution_count": 9,
   "id": "6f030029-f541-4414-872c-ed1552a3480d",
   "metadata": {},
   "outputs": [],
   "source": [
    "# Upload dataset\n",
    "\n",
    "df_reviews = pd.read_csv('data/reviews.csv')"
   ]
  },
  {
   "cell_type": "code",
   "execution_count": 10,
   "id": "75b7256a-4109-4625-96ea-c51c56042088",
   "metadata": {},
   "outputs": [
    {
     "data": {
      "text/html": [
       "<div>\n",
       "<style scoped>\n",
       "    .dataframe tbody tr th:only-of-type {\n",
       "        vertical-align: middle;\n",
       "    }\n",
       "\n",
       "    .dataframe tbody tr th {\n",
       "        vertical-align: top;\n",
       "    }\n",
       "\n",
       "    .dataframe thead th {\n",
       "        text-align: right;\n",
       "    }\n",
       "</style>\n",
       "<table border=\"1\" class=\"dataframe\">\n",
       "  <thead>\n",
       "    <tr style=\"text-align: right;\">\n",
       "      <th></th>\n",
       "      <th>listing_id</th>\n",
       "      <th>id</th>\n",
       "      <th>date</th>\n",
       "      <th>reviewer_id</th>\n",
       "      <th>reviewer_name</th>\n",
       "      <th>comments</th>\n",
       "    </tr>\n",
       "  </thead>\n",
       "  <tbody>\n",
       "    <tr>\n",
       "      <th>0</th>\n",
       "      <td>24469</td>\n",
       "      <td>536790507</td>\n",
       "      <td>2019-09-27</td>\n",
       "      <td>238649967</td>\n",
       "      <td>Marina</td>\n",
       "      <td>Excelente trato y atención por parte de los du...</td>\n",
       "    </tr>\n",
       "    <tr>\n",
       "      <th>1</th>\n",
       "      <td>24470</td>\n",
       "      <td>102982</td>\n",
       "      <td>2010-09-22</td>\n",
       "      <td>77244</td>\n",
       "      <td>Luciana</td>\n",
       "      <td>We loved to stay at Benedetta and Lorenzo apt....</td>\n",
       "    </tr>\n",
       "    <tr>\n",
       "      <th>2</th>\n",
       "      <td>24470</td>\n",
       "      <td>124303</td>\n",
       "      <td>2010-10-22</td>\n",
       "      <td>233800</td>\n",
       "      <td>Steve</td>\n",
       "      <td>A perfect place to spend a week. Amenities wer...</td>\n",
       "    </tr>\n",
       "    <tr>\n",
       "      <th>3</th>\n",
       "      <td>24470</td>\n",
       "      <td>440911489</td>\n",
       "      <td>2019-04-21</td>\n",
       "      <td>150908154</td>\n",
       "      <td>Paola</td>\n",
       "      <td>Buona posizione tranquilla e ottima accoglienz...</td>\n",
       "    </tr>\n",
       "    <tr>\n",
       "      <th>4</th>\n",
       "      <td>24472</td>\n",
       "      <td>340528</td>\n",
       "      <td>2011-06-28</td>\n",
       "      <td>239905</td>\n",
       "      <td>Michael</td>\n",
       "      <td>Lovely place. Its closeness to the train stati...</td>\n",
       "    </tr>\n",
       "  </tbody>\n",
       "</table>\n",
       "</div>"
      ],
      "text/plain": [
       "   listing_id         id        date  reviewer_id reviewer_name  \\\n",
       "0       24469  536790507  2019-09-27    238649967        Marina   \n",
       "1       24470     102982  2010-09-22        77244       Luciana   \n",
       "2       24470     124303  2010-10-22       233800         Steve   \n",
       "3       24470  440911489  2019-04-21    150908154         Paola   \n",
       "4       24472     340528  2011-06-28       239905       Michael   \n",
       "\n",
       "                                            comments  \n",
       "0  Excelente trato y atención por parte de los du...  \n",
       "1  We loved to stay at Benedetta and Lorenzo apt....  \n",
       "2  A perfect place to spend a week. Amenities wer...  \n",
       "3  Buona posizione tranquilla e ottima accoglienz...  \n",
       "4  Lovely place. Its closeness to the train stati...  "
      ]
     },
     "execution_count": 10,
     "metadata": {},
     "output_type": "execute_result"
    }
   ],
   "source": [
    "df_reviews.head()"
   ]
  },
  {
   "cell_type": "code",
   "execution_count": 60,
   "id": "251ba34d-028e-4183-8967-649c06e9073d",
   "metadata": {},
   "outputs": [
    {
     "name": "stdout",
     "output_type": "stream",
     "text": [
      "The dataset contains 534217 reviews per 8562 listings.\n"
     ]
    }
   ],
   "source": [
    "print(f'The dataset contains {df_reviews.shape[0]} reviews per {df_reviews.listing_id.nunique()} listings.')"
   ]
  },
  {
   "cell_type": "code",
   "execution_count": 12,
   "id": "b7dc1c3d-f974-4063-9d05-09288697eca1",
   "metadata": {},
   "outputs": [
    {
     "name": "stdout",
     "output_type": "stream",
     "text": [
      "<class 'pandas.core.frame.DataFrame'>\n",
      "RangeIndex: 536693 entries, 0 to 536692\n",
      "Data columns (total 6 columns):\n",
      " #   Column         Non-Null Count   Dtype \n",
      "---  ------         --------------   ----- \n",
      " 0   listing_id     536693 non-null  int64 \n",
      " 1   id             536693 non-null  int64 \n",
      " 2   date           536693 non-null  object\n",
      " 3   reviewer_id    536693 non-null  int64 \n",
      " 4   reviewer_name  536692 non-null  object\n",
      " 5   comments       536561 non-null  object\n",
      "dtypes: int64(3), object(3)\n",
      "memory usage: 24.6+ MB\n"
     ]
    }
   ],
   "source": [
    "df_reviews.info()"
   ]
  },
  {
   "cell_type": "code",
   "execution_count": 61,
   "id": "d3151b8c-faf6-43c6-ab2b-417a6664d5f2",
   "metadata": {},
   "outputs": [
    {
     "data": {
      "text/plain": [
       "mean     62.393950\n",
       "std      87.227643\n",
       "amin      1.000000\n",
       "amax    812.000000\n",
       "Name: id, dtype: float64"
      ]
     },
     "execution_count": 61,
     "metadata": {},
     "output_type": "execute_result"
    }
   ],
   "source": [
    "# Mean, standard deviation, min, max of comments per listing\n",
    "\n",
    "df_reviews.groupby('listing_id').id.count().agg([np.mean,np.std,np.min,np.max])"
   ]
  },
  {
   "cell_type": "code",
   "execution_count": 13,
   "id": "ee6c45c8-30af-4dd9-93dd-13bc9b4996a1",
   "metadata": {},
   "outputs": [
    {
     "data": {
      "text/plain": [
       "listing_id         0\n",
       "id                 0\n",
       "date               0\n",
       "reviewer_id        0\n",
       "reviewer_name      1\n",
       "comments         132\n",
       "dtype: int64"
      ]
     },
     "execution_count": 13,
     "metadata": {},
     "output_type": "execute_result"
    }
   ],
   "source": [
    "# Check for missing values\n",
    "\n",
    "df_reviews.isnull().sum()"
   ]
  },
  {
   "cell_type": "code",
   "execution_count": 14,
   "id": "eebd10c8-b3da-40bb-ac0d-2e534209169d",
   "metadata": {},
   "outputs": [
    {
     "data": {
      "text/plain": [
       "(536560, 6)"
      ]
     },
     "execution_count": 14,
     "metadata": {},
     "output_type": "execute_result"
    }
   ],
   "source": [
    "# Drop rows with missing values\n",
    "\n",
    "df_reviews.dropna(inplace=True)\n",
    "df_reviews.shape"
   ]
  },
  {
   "cell_type": "code",
   "execution_count": 16,
   "id": "ab105d1e-fd63-44c1-8406-e7e6f5ab7487",
   "metadata": {},
   "outputs": [],
   "source": [
    "# Check length of comments and add a new column\n",
    "\n",
    "df_reviews['length_comments'] = df_reviews['comments'].apply(lambda x: len(x.split()))"
   ]
  },
  {
   "cell_type": "code",
   "execution_count": 17,
   "id": "33966ed3-eaa8-48d3-8457-6ce71debfd6f",
   "metadata": {},
   "outputs": [
    {
     "data": {
      "text/plain": [
       "1002"
      ]
     },
     "execution_count": 17,
     "metadata": {},
     "output_type": "execute_result"
    }
   ],
   "source": [
    "df_reviews['length_comments'].max()"
   ]
  },
  {
   "cell_type": "code",
   "execution_count": 18,
   "id": "50d0ba4b-3dd8-40f7-ab77-b35f5084fd65",
   "metadata": {},
   "outputs": [
    {
     "data": {
      "text/plain": [
       "1"
      ]
     },
     "execution_count": 18,
     "metadata": {},
     "output_type": "execute_result"
    }
   ],
   "source": [
    "df_reviews['length_comments'].min()"
   ]
  },
  {
   "cell_type": "code",
   "execution_count": 19,
   "id": "bf484def-a8f1-40df-b0b0-e2930b1335ed",
   "metadata": {},
   "outputs": [
    {
     "data": {
      "text/plain": [
       "0    excelente trato y atención por parte de los du...\n",
       "1    we loved to stay at benedetta and lorenzo apt....\n",
       "2    a perfect place to spend a week. amenities wer...\n",
       "3    buona posizione tranquilla e ottima accoglienz...\n",
       "4    lovely place. its closeness to the train stati...\n",
       "Name: comments, dtype: object"
      ]
     },
     "execution_count": 19,
     "metadata": {},
     "output_type": "execute_result"
    }
   ],
   "source": [
    "# Lowercase comments\n",
    "\n",
    "df_reviews['comments'] = df_reviews['comments'].str.lower()\n",
    "df_reviews['comments'].head()"
   ]
  },
  {
   "cell_type": "code",
   "execution_count": 20,
   "id": "fda282c0-7093-41cb-8d7e-ab42404a1676",
   "metadata": {},
   "outputs": [
    {
     "data": {
      "text/plain": [
       "(534217, 7)"
      ]
     },
     "execution_count": 20,
     "metadata": {},
     "output_type": "execute_result"
    }
   ],
   "source": [
    "# Drop automatic comments where host cancelled reservation\n",
    "\n",
    "index_canceled = df_reviews[df_reviews[\"comments\"].str.contains(\"canceled\", case=False, na=False)].index\n",
    "df_reviews.drop(index_canceled, inplace=True)\n",
    "df_reviews.shape"
   ]
  },
  {
   "cell_type": "code",
   "execution_count": 21,
   "id": "6ce2753a-1e01-415d-b401-d7618003e76c",
   "metadata": {},
   "outputs": [
    {
     "data": {
      "text/plain": [
       "0    excelente trato y atención por parte de los du...\n",
       "1    we loved to stay at benedetta and lorenzo apt ...\n",
       "2    a perfect place to spend a week amenities were...\n",
       "3    buona posizione tranquilla e ottima accoglienz...\n",
       "4    lovely place its closeness to the train statio...\n",
       "Name: comments, dtype: object"
      ]
     },
     "execution_count": 21,
     "metadata": {},
     "output_type": "execute_result"
    }
   ],
   "source": [
    "# Remove punctuation\n",
    "\n",
    "df_reviews['comments'] = df_reviews['comments'].str.replace('[^\\w\\s]','',regex=True)\n",
    "df_reviews['comments'].head()"
   ]
  },
  {
   "cell_type": "code",
   "execution_count": 23,
   "id": "da609ff5-5003-460e-aca7-accffc6d6cb2",
   "metadata": {},
   "outputs": [],
   "source": [
    "# Remove emoji\n",
    "\n",
    "# Refer to: https://gist.github.com/slowkow/7a7f61f495e3dbb7e3d767f97bd7304b\n",
    "def remove_emoji(text):\n",
    "    emoji_pattern = re.compile(\"[\"\n",
    "                           u\"\\U0001F600-\\U0001F64F\"  # emoticons\n",
    "                           u\"\\U0001F300-\\U0001F5FF\"  # symbols & pictographs\n",
    "                           u\"\\U0001F680-\\U0001F6FF\"  # transport & map symbols\n",
    "                           u\"\\U0001F1E0-\\U0001F1FF\"  # flags \n",
    "                           u\"\\U00002702-\\U000027B0\"\n",
    "                           u\"\\U000024C2-\\U0001F251\"\n",
    "                           \"]+\", flags=re.UNICODE)\n",
    "    return emoji_pattern.sub(r'', text)\n",
    "\n",
    "df_reviews['comments'] = df_reviews['comments'].apply(lambda x: remove_emoji(x))"
   ]
  },
  {
   "cell_type": "code",
   "execution_count": null,
   "id": "de073f37-e282-4cce-82a3-2699b084917e",
   "metadata": {},
   "outputs": [],
   "source": [
    "# Remove numbers\n",
    "\n",
    "df_reviews['comments'] = df_reviews['comments'].str.replace(r'[0-9]','',regex=True)"
   ]
  },
  {
   "cell_type": "code",
   "execution_count": null,
   "id": "de180181-7efa-44a0-8285-9d2fe7ae10b3",
   "metadata": {},
   "outputs": [],
   "source": [
    "# Replace rows with empty string with none and drop them\n",
    "\n",
    "df_reviews['comments'] = df_reviews.comments.replace(r'^\\s*$','none', regex=True)\n",
    "df_reviews.drop(df_reviews[df_reviews['comments']=='none'].index, inplace = True)"
   ]
  },
  {
   "cell_type": "code",
   "execution_count": null,
   "id": "456f02a6-4beb-40c8-bee5-ba38f80c616d",
   "metadata": {},
   "outputs": [],
   "source": [
    "# Remove duplicates if any\n",
    "\n",
    "df_reviews.comments.drop_duplicates()"
   ]
  },
  {
   "cell_type": "code",
   "execution_count": null,
   "id": "14c6d0c9-ec58-4ef8-b7aa-ed38b21ce755",
   "metadata": {},
   "outputs": [],
   "source": [
    "# Identify language of comments\n",
    "\n",
    "def safe_detect(x):\n",
    "    ''' Function detecting language.\n",
    "    If a language is not identified,\n",
    "    it returns empty.\n",
    "    '''\n",
    "    try:\n",
    "        lan = detect(x)\n",
    "    except:\n",
    "        lan = \"\"\n",
    "    return lan"
   ]
  },
  {
   "cell_type": "code",
   "execution_count": null,
   "id": "4f31376c-a8fc-498f-a9a4-93a5521823f3",
   "metadata": {},
   "outputs": [],
   "source": [
    "# Create a new column 'language'\n",
    "# NB: safe_detect takes a long time to run\n",
    "\n",
    "#df_reviews['language'] = df_reviews['comments'].apply(safe_detect)"
   ]
  },
  {
   "cell_type": "code",
   "execution_count": null,
   "id": "aa88bfd7-ea19-4db1-a574-060d4743a80b",
   "metadata": {},
   "outputs": [],
   "source": [
    "f, ax = plt.subplots(figsize=(6, 8))\n",
    "sns.set_color_codes(\"pastel\")\n",
    "sns.countplot(y=\"language\", data=df_reviews, order = df_reviews['language'].value_counts(normalize=True).index,\n",
    "              label=\"Total\", color=\"b\")\n",
    "plt.show()"
   ]
  },
  {
   "cell_type": "code",
   "execution_count": null,
   "id": "0f56336f-1aab-495a-8f0e-d79393851145",
   "metadata": {},
   "outputs": [],
   "source": [
    "# Keep records with comments in en, it, fr, es, de, pt, ru\n",
    "\n",
    "df_reviews_reduced = df_reviews.loc[df_reviews['language'].isin(['en','it','fr','es','de','pt','ru'])]"
   ]
  },
  {
   "cell_type": "code",
   "execution_count": null,
   "id": "7ee0e818-9de6-4fcb-8113-2b5dcc612e2e",
   "metadata": {},
   "outputs": [],
   "source": [
    "# Save a reduced sample of comments written in en, it, fr, es, de, pt, ru. Other languages are neglible.\n",
    "\n",
    "#df_reviews_reduced.to_pickle('./data/df_reviews_reduced.pkl')"
   ]
  },
  {
   "cell_type": "code",
   "execution_count": 24,
   "id": "f89599cb-1231-481e-bddc-ffb644353c50",
   "metadata": {},
   "outputs": [],
   "source": [
    "df_reviews_reduced = pd.read_pickle('./data/df_reviews_reduced.pkl')"
   ]
  },
  {
   "cell_type": "code",
   "execution_count": 25,
   "id": "87f25349-ccd8-441a-a110-6198e62c2a77",
   "metadata": {},
   "outputs": [
    {
     "data": {
      "text/plain": [
       "en    0.733527\n",
       "it    0.105975\n",
       "fr    0.064106\n",
       "es    0.057437\n",
       "de    0.016075\n",
       "pt    0.012238\n",
       "ru    0.010641\n",
       "Name: language, dtype: float64"
      ]
     },
     "execution_count": 25,
     "metadata": {},
     "output_type": "execute_result"
    }
   ],
   "source": [
    "df_reviews_reduced.language.value_counts(normalize=True)"
   ]
  },
  {
   "cell_type": "code",
   "execution_count": null,
   "id": "69975029-f689-4397-acc9-024844935029",
   "metadata": {},
   "outputs": [],
   "source": [
    "# Pick a random sample of reviews (10%) preserving the share of languages\n",
    "\n",
    "sample_df = df_reviews_reduced.groupby('language').apply(lambda x: x.sample(frac=0.1)).reset_index(level='language', drop=True)"
   ]
  },
  {
   "cell_type": "code",
   "execution_count": null,
   "id": "0aea5a72-10de-4a04-9014-a05fdc33b414",
   "metadata": {},
   "outputs": [],
   "source": [
    "# Translate comments other than English to English\n",
    "#\n",
    "def safe_translate(x):\n",
    "    ''' Function that uses Google Translator \n",
    "    to translate comments to English.\n",
    "    If a language is not identified,\n",
    "    it returns empty.\n",
    "    '''\n",
    "    try:\n",
    "        sentence = GoogleTranslator(source='auto', target='en').translate(x)\n",
    "    except:\n",
    "        print(\"Failed: \", x)\n",
    "        sentence = \"\"\n",
    "    return sentence"
   ]
  },
  {
   "cell_type": "code",
   "execution_count": null,
   "id": "81b835ad-e545-46a1-805e-d6ece8235656",
   "metadata": {},
   "outputs": [],
   "source": [
    "# Add a new column with comments translated \n",
    "\n",
    "sample_df['en_translation'] = sample_df['comments'].loc[sample_df['language']\n",
    "                                                        .isin(['it','fr','es','de','pt','ru'])].progress_apply(safe_translate)"
   ]
  },
  {
   "cell_type": "code",
   "execution_count": null,
   "id": "7f219d4a-1655-41b7-ad3f-fa0c540d5b58",
   "metadata": {},
   "outputs": [],
   "source": [
    "# Save updated dataset\n",
    "\n",
    "#sample_df.to_pickle('./data/df_reviews_sample.pkl')"
   ]
  },
  {
   "cell_type": "code",
   "execution_count": 63,
   "id": "937b5fff-27c5-4ac8-bd05-d6b9d6c07253",
   "metadata": {},
   "outputs": [],
   "source": [
    "# Check if the dataset correctly uploads\n",
    "\n",
    "df_reviews_sample = pd.read_pickle('./data/df_reviews_sample.pkl')"
   ]
  },
  {
   "cell_type": "code",
   "execution_count": 68,
   "id": "92574d84-f732-463f-9ee1-8c4420d49d49",
   "metadata": {},
   "outputs": [
    {
     "name": "stdout",
     "output_type": "stream",
     "text": [
      "The dataset contains 51047 reviews per 6142 listings.\n"
     ]
    }
   ],
   "source": [
    "print(f'The dataset contains {df_reviews_sample.shape[0]} reviews per {df_reviews_sample.listing_id.nunique()} listings.')"
   ]
  },
  {
   "cell_type": "code",
   "execution_count": 64,
   "id": "f09d1bea-3287-449f-8706-60ffc3dfe1a4",
   "metadata": {},
   "outputs": [
    {
     "data": {
      "text/plain": [
       "'lo studio è molto caratteristico e in posizione centrale ideale per muoversi a piedi verso tutti i punti di interesse principali il quartiere è piuttosto attivo e fornito di tutti i comfort necessari apprezzatissima lospitalità dellhost marco che ci ha dato la possibilità di effettuare un check in anticipato allarrivo e di lasciare le valigie in studio anche dopo il check out prima della partenza qualche piccolo problema di odori provenienti dalla corte estera e di umidità ma nel complesso esperienza fantastica'"
      ]
     },
     "execution_count": 64,
     "metadata": {},
     "output_type": "execute_result"
    }
   ],
   "source": [
    "# Validating the accuracy of some translations\n",
    "df_reviews_sample.comments[df_reviews_sample['language'].isin(['it'])].iloc[0]"
   ]
  },
  {
   "cell_type": "code",
   "execution_count": 65,
   "id": "c323e4b9-e77b-4cdf-b61c-13830feaadda",
   "metadata": {},
   "outputs": [
    {
     "data": {
      "text/plain": [
       "'the studio is very characteristic and in an ideal central position to move on foot to all the main points of interest the neighborhood is quite active and equipped with all the necessary comforts very much appreciated the hospitality of the host marco who gave us the opportunity to check in early upon arrival and to leave the suitcases in the studio even after the check out before departure some small problem of odors coming from the foreign court and humidity but overall a fantastic experience'"
      ]
     },
     "execution_count": 65,
     "metadata": {},
     "output_type": "execute_result"
    }
   ],
   "source": [
    "df_reviews_sample.en_translation[df_reviews_sample['language'].isin(['it'])].iloc[0]"
   ]
  },
  {
   "cell_type": "code",
   "execution_count": 66,
   "id": "7fadb46b-9768-4e58-9ba9-386c8ac37642",
   "metadata": {},
   "outputs": [
    {
     "data": {
      "text/plain": [
       "'el departamento se encuentra en un punto estratégico ubicado en el centro a  minutos del duomo y  minutos del ponte vecchio es muy silencioso y cuenta con una habitación y un sofa cama en el estar donde se encuentra la cocina integrada mina respondio amablemente e incluso tuvimos un problema con las llaves y en  minutos se acerco otra personas para solucionarnos el problema recomendable  br'"
      ]
     },
     "execution_count": 66,
     "metadata": {},
     "output_type": "execute_result"
    }
   ],
   "source": [
    "df_reviews_sample.comments[df_reviews_sample['language'].isin(['es'])].iloc[0]"
   ]
  },
  {
   "cell_type": "code",
   "execution_count": 67,
   "id": "d6d94d94-98e3-45d2-9bad-2edd95d404c2",
   "metadata": {},
   "outputs": [
    {
     "data": {
      "text/plain": [
       "'The apartment is located in a strategic point located in the center, minutes from the duomo and minutes from the Ponte Vecchio, it is very quiet and has a room and a sofa bed in the living room where the integrated kitchen is located. Mina responded kindly and we even had a problem with the keys and in minutes other people approached to solve the recommended problem br'"
      ]
     },
     "execution_count": 67,
     "metadata": {},
     "output_type": "execute_result"
    }
   ],
   "source": [
    "df_reviews_sample.en_translation[df_reviews_sample['language'].isin(['es'])].iloc[0]"
   ]
  }
 ],
 "metadata": {
  "kernelspec": {
   "display_name": "Python 3 (ipykernel)",
   "language": "python",
   "name": "python3"
  },
  "language_info": {
   "codemirror_mode": {
    "name": "ipython",
    "version": 3
   },
   "file_extension": ".py",
   "mimetype": "text/x-python",
   "name": "python",
   "nbconvert_exporter": "python",
   "pygments_lexer": "ipython3",
   "version": "3.9.6"
  }
 },
 "nbformat": 4,
 "nbformat_minor": 5
}
