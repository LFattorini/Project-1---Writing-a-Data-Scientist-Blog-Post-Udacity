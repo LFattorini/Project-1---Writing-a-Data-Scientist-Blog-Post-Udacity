{
 "cells": [
  {
   "cell_type": "markdown",
   "id": "71d92e0f-a5ff-4dbe-a8bd-05b30e7dd471",
   "metadata": {},
   "source": [
    "# Q2. What are the top topics in guest reviews?\n",
    "\n",
    "## Table of Contents: \n",
    "\n",
    "\n",
    "* [Topic Modeling: Latent Dirichlet Allocation (LDA)](#chapter4_)\n",
    "    * [Cleaning and Pre-processing data for LDA](#chapter4_1)\n",
    "    * [Train LDA Topic Model](#chapter4_2)\n",
    "        * [Select the Optimal Number of Topics](#chapter4_2_2)\n",
    "        * [Build LDA Model and Interpret Results](#chapter4_2_3)\n",
    "        * [Evaluate LDA Model](#chapter4_2_4)\n",
    "    * [Visualize topic-keyword of LDA](#chapter4_3)"
   ]
  },
  {
   "cell_type": "markdown",
   "id": "8028511d-9033-4dec-93ae-3119b5971bc1",
   "metadata": {},
   "source": [
    "### Import Libraries"
   ]
  },
  {
   "cell_type": "code",
   "execution_count": 1,
   "id": "1f709a3c-3eb7-4054-a9d7-36c6bfdd3b9a",
   "metadata": {},
   "outputs": [],
   "source": [
    "import numpy as np\n",
    "import pandas as pd\n",
    "import matplotlib.pyplot as plt\n",
    "%matplotlib inline\n",
    "\n",
    "import seaborn as sns\n",
    "sns.set_theme(style=\"whitegrid\")\n",
    "\n",
    "\n",
    "import spacy\n",
    "from spacy.lang.en.stop_words import STOP_WORDS\n",
    "from spacy.lang.en.examples import sentences\n",
    "\n",
    "import pickle \n",
    "\n",
    "from nltk.tokenize import word_tokenize\n",
    "\n",
    "\n",
    "import gensim\n",
    "from gensim.utils import simple_preprocess\n",
    "import gensim.corpora as corpora\n",
    "from gensim.models import Phrases,CoherenceModel, LdaModel\n",
    "\n",
    "import pyLDAvis.gensim_models\n",
    "import pyLDAvis\n",
    "import pyLDAvis.sklearn\n",
    "\n",
    "#from imp import reload\n",
    "import importlib\n",
    "\n",
    "import time\n",
    "\n",
    "from tabulate import tabulate\n",
    "import re"
   ]
  },
  {
   "cell_type": "markdown",
   "id": "1e9dd602-e29f-4175-a3ba-a8ce9d2d7550",
   "metadata": {},
   "source": [
    "[Back to TOC](#Table-of-Contents:)\n",
    "<a class=\"anchor\" id='chapter4_'></a>\n",
    "# Topic Modeling: Latent Dirichlet Allocation (LDA)"
   ]
  },
  {
   "cell_type": "markdown",
   "id": "74ce8447-a5c7-4bf3-8e52-7163589974f5",
   "metadata": {},
   "source": [
    "<a class=\"anchor\" id='chapter4.1'></a>\n",
    "## Cleaning and Pre-processing data for LDA"
   ]
  },
  {
   "cell_type": "markdown",
   "id": "cc9602ba-9940-4542-aaf3-3c6c13dd1465",
   "metadata": {},
   "source": [
    "For this analysis, we further clean and pre-process reviews following these steps:<br>\n",
    "1. Lemmatize <br>\n",
    "2. Remove punctuation <br>\n",
    "3. Remove stop words <br>\n",
    "4. Remove numbers <br>\n",
    "5. Keep words with length > 2 <br>\n",
    "6. Tokenize <br>\n",
    "\n",
    "Then, we convert text into a bag of words as a dictionary, where to each word (key) is associated a numeric id (value). And finally, we count the number of times each word occurs within the corpus.\n",
    "\n",
    "Packages required: <br>\n",
    "- spacy\n",
    "- nltk.tokenize\n",
    "- gensim.corpora"
   ]
  },
  {
   "cell_type": "code",
   "execution_count": 2,
   "id": "90ded0f4-ec9f-47c2-8c16-1bf190d2dbf8",
   "metadata": {},
   "outputs": [],
   "source": [
    "# Upload data\n",
    "\n",
    "df_reviews_sample_sentiment_bitrigrams = pd.read_pickle('./data/df_reviews_sample_sentiment_bitrigrams.pkl')"
   ]
  },
  {
   "cell_type": "code",
   "execution_count": 3,
   "id": "e72de1b7-10ea-4d93-84e0-7006722cdd58",
   "metadata": {},
   "outputs": [
    {
     "data": {
      "text/html": [
       "<div>\n",
       "<style scoped>\n",
       "    .dataframe tbody tr th:only-of-type {\n",
       "        vertical-align: middle;\n",
       "    }\n",
       "\n",
       "    .dataframe tbody tr th {\n",
       "        vertical-align: top;\n",
       "    }\n",
       "\n",
       "    .dataframe thead th {\n",
       "        text-align: right;\n",
       "    }\n",
       "</style>\n",
       "<table border=\"1\" class=\"dataframe\">\n",
       "  <thead>\n",
       "    <tr style=\"text-align: right;\">\n",
       "      <th></th>\n",
       "      <th>listing_id</th>\n",
       "      <th>id</th>\n",
       "      <th>date</th>\n",
       "      <th>reviewer_id</th>\n",
       "      <th>reviewer_name</th>\n",
       "      <th>comments</th>\n",
       "      <th>length_comments</th>\n",
       "      <th>language</th>\n",
       "      <th>comments_english</th>\n",
       "      <th>polarity_compound</th>\n",
       "      <th>sentiment</th>\n",
       "    </tr>\n",
       "  </thead>\n",
       "  <tbody>\n",
       "    <tr>\n",
       "      <th>39978</th>\n",
       "      <td>735370</td>\n",
       "      <td>151499476</td>\n",
       "      <td>2017-05-13</td>\n",
       "      <td>107924476</td>\n",
       "      <td>Jutta</td>\n",
       "      <td>eine schön gelegene wohnung in der etage die w...</td>\n",
       "      <td>59</td>\n",
       "      <td>de</td>\n",
       "      <td>a beautifully located apartment on the same fl...</td>\n",
       "      <td>0.0258</td>\n",
       "      <td>neu</td>\n",
       "    </tr>\n",
       "    <tr>\n",
       "      <th>196555</th>\n",
       "      <td>5909451</td>\n",
       "      <td>142261214</td>\n",
       "      <td>2017-04-07</td>\n",
       "      <td>118986470</td>\n",
       "      <td>Michael</td>\n",
       "      <td>alles bestens sehr gute lage nahe der piazza d...</td>\n",
       "      <td>25</td>\n",
       "      <td>de</td>\n",
       "      <td>everything was very good, very good location n...</td>\n",
       "      <td>0.8803</td>\n",
       "      <td>pos</td>\n",
       "    </tr>\n",
       "    <tr>\n",
       "      <th>340512</th>\n",
       "      <td>14976201</td>\n",
       "      <td>437134397</td>\n",
       "      <td>2019-04-14</td>\n",
       "      <td>129853528</td>\n",
       "      <td>Kristine</td>\n",
       "      <td>das airbnb hat uns sehr gut gefallen wir haben...</td>\n",
       "      <td>120</td>\n",
       "      <td>de</td>\n",
       "      <td>We liked the airbnb very much, although we onl...</td>\n",
       "      <td>0.9154</td>\n",
       "      <td>pos</td>\n",
       "    </tr>\n",
       "    <tr>\n",
       "      <th>189256</th>\n",
       "      <td>5745043</td>\n",
       "      <td>658966293</td>\n",
       "      <td>2020-08-31</td>\n",
       "      <td>160489786</td>\n",
       "      <td>Mark</td>\n",
       "      <td>perfekt für einen urlaub in florenz und der an...</td>\n",
       "      <td>15</td>\n",
       "      <td>de</td>\n",
       "      <td>perfect for a vacation in florence and traveli...</td>\n",
       "      <td>0.5719</td>\n",
       "      <td>pos</td>\n",
       "    </tr>\n",
       "    <tr>\n",
       "      <th>149460</th>\n",
       "      <td>4143454</td>\n",
       "      <td>179633637</td>\n",
       "      <td>2017-08-08</td>\n",
       "      <td>97926976</td>\n",
       "      <td>Uwe</td>\n",
       "      <td>wir hatten als familie  pesonen eine sehr schö...</td>\n",
       "      <td>96</td>\n",
       "      <td>de</td>\n",
       "      <td>we had a very nice time as a family pesonen in...</td>\n",
       "      <td>0.9432</td>\n",
       "      <td>pos</td>\n",
       "    </tr>\n",
       "  </tbody>\n",
       "</table>\n",
       "</div>"
      ],
      "text/plain": [
       "        listing_id         id        date  reviewer_id reviewer_name  \\\n",
       "39978       735370  151499476  2017-05-13    107924476         Jutta   \n",
       "196555     5909451  142261214  2017-04-07    118986470       Michael   \n",
       "340512    14976201  437134397  2019-04-14    129853528      Kristine   \n",
       "189256     5745043  658966293  2020-08-31    160489786          Mark   \n",
       "149460     4143454  179633637  2017-08-08     97926976           Uwe   \n",
       "\n",
       "                                                 comments  length_comments  \\\n",
       "39978   eine schön gelegene wohnung in der etage die w...               59   \n",
       "196555  alles bestens sehr gute lage nahe der piazza d...               25   \n",
       "340512  das airbnb hat uns sehr gut gefallen wir haben...              120   \n",
       "189256  perfekt für einen urlaub in florenz und der an...               15   \n",
       "149460  wir hatten als familie  pesonen eine sehr schö...               96   \n",
       "\n",
       "       language                                   comments_english  \\\n",
       "39978        de  a beautifully located apartment on the same fl...   \n",
       "196555       de  everything was very good, very good location n...   \n",
       "340512       de  We liked the airbnb very much, although we onl...   \n",
       "189256       de  perfect for a vacation in florence and traveli...   \n",
       "149460       de  we had a very nice time as a family pesonen in...   \n",
       "\n",
       "        polarity_compound sentiment  \n",
       "39978              0.0258       neu  \n",
       "196555             0.8803       pos  \n",
       "340512             0.9154       pos  \n",
       "189256             0.5719       pos  \n",
       "149460             0.9432       pos  "
      ]
     },
     "execution_count": 3,
     "metadata": {},
     "output_type": "execute_result"
    }
   ],
   "source": [
    "df_reviews_sample_sentiment_bitrigrams.head()"
   ]
  },
  {
   "cell_type": "code",
   "execution_count": 4,
   "id": "1c9f9318-dce6-40f2-973e-b65c521af497",
   "metadata": {},
   "outputs": [
    {
     "data": {
      "text/plain": [
       "(51047, 11)"
      ]
     },
     "execution_count": 4,
     "metadata": {},
     "output_type": "execute_result"
    }
   ],
   "source": [
    "df_reviews_sample_sentiment_bitrigrams.shape"
   ]
  },
  {
   "cell_type": "code",
   "execution_count": 5,
   "id": "78b1f529-01d8-4c24-89a0-d1ba24a9fa87",
   "metadata": {},
   "outputs": [],
   "source": [
    "nlp = spacy.load('en_core_web_sm', disable=[\"parser\", \"ner\"])"
   ]
  },
  {
   "cell_type": "code",
   "execution_count": 6,
   "id": "7b0dc918-3b7f-4526-95c9-a0731a3569e1",
   "metadata": {},
   "outputs": [],
   "source": [
    "def pre_process_text(text):\n",
    "    \n",
    "    '''Clean and pre-process data.\n",
    "    '''\n",
    "    \n",
    "    cleaned_text = []\n",
    "    document = nlp.pipe(text, batch_size=256, n_process=6)\n",
    "    for doc in document:\n",
    "        text = [\n",
    "            token.lemma_\n",
    "            for token in doc\n",
    "            if not token.is_punct\n",
    "            and not token.is_stop\n",
    "            and not token.like_num\n",
    "            and token.is_alpha\n",
    "            and len(token.orth_) > 2\n",
    "        ]\n",
    "        cleaned_text.append(\" \".join(text).lower())\n",
    "    return cleaned_text"
   ]
  },
  {
   "cell_type": "code",
   "execution_count": 7,
   "id": "bddcb1bc-d775-47a9-a0c8-171382fc76fa",
   "metadata": {},
   "outputs": [],
   "source": [
    "def sentence_to_words(cleaned_text):\n",
    "    \n",
    "    '''Tokenize data\n",
    "    '''\n",
    "    \n",
    "    data_words = []\n",
    "    for sentence in cleaned_text:\n",
    "        item = word_tokenize(sentence)\n",
    "        data_words.append(item)\n",
    "    return data_words"
   ]
  },
  {
   "cell_type": "code",
   "execution_count": 8,
   "id": "928e760f-ee8c-4f3f-a344-7e960c9cfdd8",
   "metadata": {},
   "outputs": [],
   "source": [
    "def prepare_data_words(data):\n",
    "    \n",
    "    '''Clean and pre-process data.\n",
    "    \n",
    "    Prepare Dictionary and Corpus for LDA.\n",
    "    \n",
    "    Dictionary: Unique ids for each unique word\n",
    "    Corpus: Word document frequency\n",
    "    '''\n",
    "    \n",
    "    # Pre-process text data\n",
    "    data_clean = pre_process_text(data)\n",
    "    \n",
    "    # Tokenize text data\n",
    "    data_words = sentence_to_words(data_clean)\n",
    "    \n",
    "    # Create Dictionary\n",
    "    id2word = corpora.Dictionary(data_words)\n",
    "    \n",
    "    # Filter extreme values\n",
    "    # no_below (int) filters out words appearing less than n times\n",
    "    # no_above (float) filters out words appearing in more than x% of all reviews\n",
    "    id2word.filter_extremes(no_below=5, no_above=0.1) \n",
    "  \n",
    "    # Create Corpus\n",
    "    texts = data_words\n",
    "    \n",
    "    # Term Document Frequency\n",
    "    corpus = [id2word.doc2bow(text) for text in texts]\n",
    "    \n",
    "    return id2word, corpus, data_words"
   ]
  },
  {
   "cell_type": "code",
   "execution_count": 9,
   "id": "4f4087da-206b-4805-9981-12ff2a18645b",
   "metadata": {},
   "outputs": [],
   "source": [
    "# Convert reviews to list\n",
    "\n",
    "reviews_list = df_reviews_sample_sentiment_bitrigrams['comments_english'].to_list()"
   ]
  },
  {
   "cell_type": "code",
   "execution_count": 10,
   "id": "85ce7395-7b32-47a9-ab4d-9c6cdb293d56",
   "metadata": {},
   "outputs": [],
   "source": [
    "id2word, corpus, data_words = prepare_data_words(reviews_list);"
   ]
  },
  {
   "cell_type": "markdown",
   "id": "7e8a91f2-1781-4b25-b8ef-3b5441cec728",
   "metadata": {},
   "source": [
    "[Back to TOC](#Table-of-Contents:)\n",
    "<a class=\"anchor\" id='chapter4_2'></a>\n",
    "## Train LDA Topic Model"
   ]
  },
  {
   "cell_type": "markdown",
   "id": "d7b1395d-c98e-48c3-b5a6-1d834cf611c3",
   "metadata": {},
   "source": [
    "**Packages** required: <br>\n",
    "- gensim https://pypi.org/project/gensim/\n"
   ]
  },
  {
   "cell_type": "markdown",
   "id": "162125e7-d8e8-4741-b6eb-0100e3194385",
   "metadata": {},
   "source": [
    "<a class=\"anchor\" id='chapter4.2.2'></a>\n",
    "### Select the Optimal Number of Topics"
   ]
  },
  {
   "cell_type": "code",
   "execution_count": 11,
   "id": "13f80c2d-6cb6-4d6e-a8ae-0a23aeac8fba",
   "metadata": {},
   "outputs": [
    {
     "name": "stdout",
     "output_type": "stream",
     "text": [
      "Round: 1\n",
      "--- 5.7380530834198 seconds ---\n",
      "Round: 2\n",
      "--- 19.069741010665894 seconds ---\n",
      "Round: 3\n",
      "--- 34.50109601020813 seconds ---\n",
      "Round: 4\n",
      "--- 51.365859031677246 seconds ---\n",
      "Round: 5\n",
      "--- 68.14608097076416 seconds ---\n",
      "Round: 6\n",
      "--- 84.78217005729675 seconds ---\n",
      "Round: 7\n",
      "--- 101.90255808830261 seconds ---\n",
      "Round: 8\n",
      "--- 119.27384901046753 seconds ---\n",
      "Round: 9\n",
      "--- 136.63148999214172 seconds ---\n",
      "Round: 10\n",
      "--- 154.5361888408661 seconds ---\n"
     ]
    }
   ],
   "source": [
    "# Optimize the number of topics\n",
    "start_time = time.time()\n",
    "coherence = []\n",
    "for k in range(1,11):\n",
    "    print('Round: '+str(k))\n",
    "    lda_model = gensim.models.LdaMulticore(corpus=corpus,\n",
    "                                       id2word=id2word,\n",
    "                                       num_topics=k,\n",
    "                                       chunksize=100,\n",
    "                                       passes=10,\n",
    "                                       iterations=200,\n",
    "                                       random_state=42,\n",
    "                                       per_word_topics=True)\n",
    "\n",
    "\n",
    "    \n",
    "    cm = gensim.models.coherencemodel.CoherenceModel(model=lda_model, texts=data_words,\n",
    "                                                     dictionary=id2word, coherence='c_v')\n",
    "    coherence.append((k,cm.get_coherence()))\n",
    "    ## Print time taken to train the model\n",
    "    print(\"--- %s seconds ---\" % (time.time() - start_time))\n",
    "\n"
   ]
  },
  {
   "cell_type": "code",
   "execution_count": 12,
   "id": "f4a00433-4351-4c8f-b0df-04ab509a178f",
   "metadata": {},
   "outputs": [
    {
     "data": {
      "image/png": "[encoded data removed]",
      "text/plain": [
       "<Figure size 720x360 with 1 Axes>"
      ]
     },
     "metadata": {},
     "output_type": "display_data"
    }
   ],
   "source": [
    "x_val = [x[0] for x in coherence]\n",
    "y_val = [x[1] for x in coherence]\n",
    "\n",
    "plt.figure(figsize=(10,5))\n",
    "ax = sns.lineplot(x=x_val, y=y_val, label='Topic Coherence')\n",
    "\n",
    "ax.axes.set_title('Coherence Score per Number of Topics', fontsize=16)\n",
    "ax.set_ylabel('Coherence Score', fontsize=14)\n",
    "ax.set_xlabel('Number of Topics', fontsize=14)\n",
    "plt.show()   "
   ]
  },
  {
   "cell_type": "markdown",
   "id": "1a3fe050-d072-4250-b361-d58bf2455ef8",
   "metadata": {},
   "source": [
    "The ideal **number of topics** will **maximize coherence**, in our case **8** can be a reasonable choice."
   ]
  },
  {
   "cell_type": "markdown",
   "id": "380632d9-5069-4cda-9d10-04b940a15fe1",
   "metadata": {},
   "source": [
    "<a class=\"anchor\" id='chapter4.2.3'></a>\n",
    "### Build LDA Model and Interpret Results"
   ]
  },
  {
   "cell_type": "code",
   "execution_count": 13,
   "id": "385b47da-19d6-41a1-9b86-93b236004295",
   "metadata": {},
   "outputs": [
    {
     "name": "stdout",
     "output_type": "stream",
     "text": [
      "[(0, '0.057*\"view\" + 0.044*\"flat\" + 0.036*\"amazing\" + 0.031*\"lovely\" + 0.030*\"terrace\" + 0.022*\"enjoy\" + 0.021*\"wonderful\" + 0.020*\"love\" + 0.018*\"definitely\" + 0.017*\"fantastic\"'), (1, '0.024*\"distance\" + 0.019*\"attraction\" + 0.018*\"away\" + 0.016*\"area\" + 0.015*\"main\" + 0.015*\"tourist\" + 0.014*\"walking\" + 0.013*\"duomo\" + 0.013*\"shop\" + 0.012*\"right\"'), (2, '0.049*\"give\" + 0.022*\"provide\" + 0.021*\"tip\" + 0.019*\"information\" + 0.017*\"recommendation\" + 0.017*\"welcome\" + 0.016*\"eat\" + 0.016*\"visit\" + 0.015*\"lot\" + 0.015*\"map\"'), (3, '0.033*\"house\" + 0.029*\"bus\" + 0.025*\"quiet\" + 0.023*\"accommodation\" + 0.020*\"foot\" + 0.019*\"area\" + 0.016*\"parking\" + 0.016*\"pleasant\" + 0.016*\"car\" + 0.015*\"equip\"'), (4, '0.036*\"check\" + 0.029*\"easy\" + 0.019*\"communication\" + 0.018*\"super\" + 0.016*\"quick\" + 0.016*\"question\" + 0.014*\"definitely\" + 0.014*\"respond\" + 0.013*\"checkin\" + 0.012*\"accommodate\"'), (5, '0.015*\"air\" + 0.012*\"work\" + 0.012*\"kitchen\" + 0.011*\"floor\" + 0.010*\"bathroom\" + 0.009*\"stair\" + 0.009*\"bed\" + 0.009*\"water\" + 0.009*\"problem\" + 0.009*\"day\"'), (6, '0.031*\"night\" + 0.030*\"bed\" + 0.027*\"street\" + 0.024*\"bathroom\" + 0.021*\"small\" + 0.019*\"kitchen\" + 0.019*\"noise\" + 0.019*\"window\" + 0.018*\"bedroom\" + 0.017*\"little\"'), (7, '0.025*\"house\" + 0.023*\"welcome\" + 0.023*\"home\" + 0.020*\"feel\" + 0.017*\"kind\" + 0.016*\"like\" + 0.014*\"experience\" + 0.011*\"come\" + 0.010*\"return\" + 0.010*\"detail\"')]\n"
     ]
    }
   ],
   "source": [
    "# number of topics\n",
    "num_topics = 8\n",
    "\n",
    "# Build LDA model\n",
    "lda_model_final = gensim.models.LdaMulticore(corpus=corpus,\n",
    "                                       id2word=id2word,\n",
    "                                       num_topics=num_topics,\n",
    "                                       chunksize=200,\n",
    "                                       passes=40,\n",
    "                                       random_state=617,\n",
    "                                       per_word_topics=True)\n",
    "\n",
    "# Print the Keyword in the 8 topics\n",
    "print(lda_model_final.print_topics())\n",
    "doc_lda = lda_model_final[corpus]"
   ]
  },
  {
   "cell_type": "code",
   "execution_count": 30,
   "id": "f0e57df6-3a34-4818-acbc-3d5482ffef10",
   "metadata": {},
   "outputs": [],
   "source": [
    "topics_topkeywords = dict(lda_model_final.print_topics())\n",
    "topics_topkeywords = {key: list(map(str, value.split('+'))) for key, value in ex.items()}"
   ]
  },
  {
   "cell_type": "code",
   "execution_count": 32,
   "id": "a82cd6df-56d2-48b4-a3b6-dc376688e6dd",
   "metadata": {},
   "outputs": [],
   "source": [
    "# using dictionary comprehension to go through all keys\n",
    "topics_topkeywords_clean = {key: [re.sub(r'[\\d+\\W]', '', ele) for ele in val]\n",
    "       for key, val in ex2.items()}"
   ]
  },
  {
   "cell_type": "code",
   "execution_count": 33,
   "id": "08f441a8-266b-4191-9712-c8cf6f6aa2be",
   "metadata": {},
   "outputs": [
    {
     "name": "stdout",
     "output_type": "stream",
     "text": [
      "╒════════════╤════════════╤════════════════╤═══════════════╤═══════════════╤══════════╤══════════╤════════════╕\n",
      "│ 0          │ 1          │ 2              │ 3             │ 4             │ 5        │ 6        │ 7          │\n",
      "╞════════════╪════════════╪════════════════╪═══════════════╪═══════════════╪══════════╪══════════╪════════════╡\n",
      "│ view       │ distance   │ give           │ house         │ check         │ air      │ night    │ house      │\n",
      "├────────────┼────────────┼────────────────┼───────────────┼───────────────┼──────────┼──────────┼────────────┤\n",
      "│ flat       │ attraction │ provide        │ bus           │ easy          │ work     │ bed      │ welcome    │\n",
      "├────────────┼────────────┼────────────────┼───────────────┼───────────────┼──────────┼──────────┼────────────┤\n",
      "│ amazing    │ away       │ tip            │ quiet         │ communication │ kitchen  │ street   │ home       │\n",
      "├────────────┼────────────┼────────────────┼───────────────┼───────────────┼──────────┼──────────┼────────────┤\n",
      "│ lovely     │ area       │ information    │ accommodation │ super         │ floor    │ bathroom │ feel       │\n",
      "├────────────┼────────────┼────────────────┼───────────────┼───────────────┼──────────┼──────────┼────────────┤\n",
      "│ terrace    │ main       │ recommendation │ foot          │ quick         │ bathroom │ small    │ kind       │\n",
      "├────────────┼────────────┼────────────────┼───────────────┼───────────────┼──────────┼──────────┼────────────┤\n",
      "│ enjoy      │ tourist    │ welcome        │ area          │ question      │ stair    │ kitchen  │ like       │\n",
      "├────────────┼────────────┼────────────────┼───────────────┼───────────────┼──────────┼──────────┼────────────┤\n",
      "│ wonderful  │ walking    │ eat            │ parking       │ definitely    │ bed      │ noise    │ experience │\n",
      "├────────────┼────────────┼────────────────┼───────────────┼───────────────┼──────────┼──────────┼────────────┤\n",
      "│ love       │ duomo      │ visit          │ pleasant      │ respond       │ water    │ window   │ come       │\n",
      "├────────────┼────────────┼────────────────┼───────────────┼───────────────┼──────────┼──────────┼────────────┤\n",
      "│ definitely │ shop       │ lot            │ car           │ checkin       │ problem  │ bedroom  │ return     │\n",
      "├────────────┼────────────┼────────────────┼───────────────┼───────────────┼──────────┼──────────┼────────────┤\n",
      "│ fantastic  │ right      │ map            │ equip         │ accommodate   │ day      │ little   │ detail     │\n",
      "╘════════════╧════════════╧════════════════╧═══════════════╧═══════════════╧══════════╧══════════╧════════════╛\n"
     ]
    }
   ],
   "source": [
    "print(tabulate(topics_topkeywords_clean, headers='keys',tablefmt=\"fancy_grid\"))"
   ]
  },
  {
   "cell_type": "markdown",
   "id": "2a1cfed6-e83e-41be-a366-970571450e46",
   "metadata": {},
   "source": [
    "#### **Topics** <br>\n",
    "\n",
    "Looking at the **top 10 keywords per topic**, we can summarize topics as follows: <br>\n",
    "\n",
    "1. **Good feelings**\n",
    "2. **Location**\n",
    "3. **Tips**\n",
    "4. **Accommodation benefits**\n",
    "5. **Host communication**\n",
    "6. **Accommodation features**\n",
    "7. **Complaints**\n",
    "8. **Good experience**"
   ]
  },
  {
   "cell_type": "code",
   "execution_count": 18,
   "id": "0c7f6d66-46d8-4cc6-81e6-8c5cd7ccfbdb",
   "metadata": {},
   "outputs": [],
   "source": [
    "# Create a dictionary with topics\n",
    "\n",
    "topic_list = {0: 'Good feelings', \n",
    "              1: 'Location', \n",
    "              2: 'Tips', \n",
    "              3: 'Accommodation benefits', \n",
    "              4: 'Host communication', \n",
    "              5: 'Accommodation features', \n",
    "              6: 'Complaints', \n",
    "              7: 'Good experience'\n",
    "             }"
   ]
  },
  {
   "cell_type": "code",
   "execution_count": 19,
   "id": "b3247c75-cf20-4fbb-b9e4-3cd5a6ca6fc5",
   "metadata": {},
   "outputs": [],
   "source": [
    "#Add main and secondary topic to dataframe\n",
    "\n",
    "N = len(df_reviews_sample_sentiment_bitrigrams)\n",
    "main_topic = -np.ones(N, int)\n",
    "secondary_topic = -np.ones(N, int)\n",
    "\n",
    "for i in range(N):\n",
    "    results = sorted(lda_model_final.get_document_topics(corpus[i]), key=lambda x: x[1], reverse=True)\n",
    "    main_topic[i] = results[0][0]\n",
    "    if len(results) > 1:\n",
    "        secondary_topic[i] = results[1][0]\n",
    "        \n",
    "df_reviews_sample_sentiment_bitrigrams['main_topic'] = main_topic\n",
    "df_reviews_sample_sentiment_bitrigrams['secondary_topic'] = secondary_topic"
   ]
  },
  {
   "cell_type": "code",
   "execution_count": 20,
   "id": "5ef8a860-26e9-4990-9638-e57b7c462ab1",
   "metadata": {},
   "outputs": [
    {
     "data": {
      "text/plain": [
       "array(['marzia is a great host the accommodation is perfect and is lovingly furnished to feel good with an eye for practical and beautiful details the communication went smoothly and a prosecco was already waiting for us in the fridge we can highly recommend the accommodation and would be happy to come back',\n",
       "       7, 4], dtype=object)"
      ]
     },
     "execution_count": 20,
     "metadata": {},
     "output_type": "execute_result"
    }
   ],
   "source": [
    "# Check some examples\n",
    "\n",
    "df_reviews_sample_sentiment_bitrigrams[['comments_english','main_topic', 'secondary_topic']].iloc[13].values"
   ]
  },
  {
   "cell_type": "code",
   "execution_count": 70,
   "id": "83bdb6da-4d95-443f-9b78-e60b45753503",
   "metadata": {},
   "outputs": [],
   "source": [
    "main_topic_dis = pd.DataFrame(df_reviews_sample_sentiment_bitrigrams['main_topic'].value_counts(normalize=True).rename(index=topic_list).reset_index())\n",
    "main_topic_dis = main_topic_dis.rename(columns={'index': 'Topic','main_topic': 'percentage'})"
   ]
  },
  {
   "cell_type": "code",
   "execution_count": 71,
   "id": "de8a78ed-d1c8-435d-a9e7-93e9081bb2ca",
   "metadata": {},
   "outputs": [
    {
     "data": {
      "text/html": [
       "<div>\n",
       "<style scoped>\n",
       "    .dataframe tbody tr th:only-of-type {\n",
       "        vertical-align: middle;\n",
       "    }\n",
       "\n",
       "    .dataframe tbody tr th {\n",
       "        vertical-align: top;\n",
       "    }\n",
       "\n",
       "    .dataframe thead th {\n",
       "        text-align: right;\n",
       "    }\n",
       "</style>\n",
       "<table border=\"1\" class=\"dataframe\">\n",
       "  <thead>\n",
       "    <tr style=\"text-align: right;\">\n",
       "      <th></th>\n",
       "      <th>Topic</th>\n",
       "      <th>percentage</th>\n",
       "    </tr>\n",
       "  </thead>\n",
       "  <tbody>\n",
       "    <tr>\n",
       "      <th>0</th>\n",
       "      <td>Good experience</td>\n",
       "      <td>16.114561</td>\n",
       "    </tr>\n",
       "    <tr>\n",
       "      <th>1</th>\n",
       "      <td>Location</td>\n",
       "      <td>15.358395</td>\n",
       "    </tr>\n",
       "    <tr>\n",
       "      <th>2</th>\n",
       "      <td>Host communication</td>\n",
       "      <td>13.765745</td>\n",
       "    </tr>\n",
       "    <tr>\n",
       "      <th>3</th>\n",
       "      <td>Accommodation benefits</td>\n",
       "      <td>13.548299</td>\n",
       "    </tr>\n",
       "    <tr>\n",
       "      <th>4</th>\n",
       "      <td>Good feelings</td>\n",
       "      <td>12.280839</td>\n",
       "    </tr>\n",
       "    <tr>\n",
       "      <th>5</th>\n",
       "      <td>Accommodation features</td>\n",
       "      <td>12.259290</td>\n",
       "    </tr>\n",
       "    <tr>\n",
       "      <th>6</th>\n",
       "      <td>Tips</td>\n",
       "      <td>9.338453</td>\n",
       "    </tr>\n",
       "    <tr>\n",
       "      <th>7</th>\n",
       "      <td>Complaints</td>\n",
       "      <td>7.334417</td>\n",
       "    </tr>\n",
       "  </tbody>\n",
       "</table>\n",
       "</div>"
      ],
      "text/plain": [
       "                    Topic  percentage\n",
       "0         Good experience   16.114561\n",
       "1                Location   15.358395\n",
       "2      Host communication   13.765745\n",
       "3  Accommodation benefits   13.548299\n",
       "4           Good feelings   12.280839\n",
       "5  Accommodation features   12.259290\n",
       "6                    Tips    9.338453\n",
       "7              Complaints    7.334417"
      ]
     },
     "execution_count": 71,
     "metadata": {},
     "output_type": "execute_result"
    }
   ],
   "source": [
    "main_topic_dis['percentage'] = main_topic_dis['percentage']*100\n",
    "main_topic_dis"
   ]
  },
  {
   "cell_type": "code",
   "execution_count": 38,
   "id": "17cae0bc-730a-45cb-a407-9bf6e5405277",
   "metadata": {},
   "outputs": [
    {
     "data": {
      "image/png": "[encoded data removed]",
      "text/plain": [
       "<Figure size 432x360 with 1 Axes>"
      ]
     },
     "metadata": {},
     "output_type": "display_data"
    }
   ],
   "source": [
    "plt.figure(figsize=(6,5))\n",
    "\n",
    "x = main_topic_dis['Topic']\n",
    "y = main_topic_dis['percentage']\n",
    "\n",
    "ax = sns.barplot(x=\"percentage\", y=\"Topic\", data=main_topic_dis,\n",
    "            label=\"Total\", palette=\"Blues_r\")\n",
    "\n",
    "ax.set_title('Main Topics Distribution (total sum 100%)', fontsize=16)\n",
    "ax.set_ylabel('Topic', fontsize=15)\n",
    "ax.set_xlabel('% of reviews', fontsize=15)\n",
    "\n",
    "\n",
    "plt.show()"
   ]
  },
  {
   "cell_type": "code",
   "execution_count": 45,
   "id": "fa2d8c08-dad5-4245-8524-112a36858e18",
   "metadata": {},
   "outputs": [],
   "source": [
    "ax.figure.savefig('main_topic_distribution.png',dpi=600, bbox_inches = \"tight\")"
   ]
  },
  {
   "cell_type": "markdown",
   "id": "dc4e5f49-686d-40a2-aecd-07fe73751647",
   "metadata": {},
   "source": [
    "Looking at the **main topic distribution** across our sample of reviews: <br>\n",
    "- The most discussed topics are **Good experience** and **Location**\n",
    "- The least discussed topics are **Tips** and **Complaints**"
   ]
  },
  {
   "cell_type": "code",
   "execution_count": 25,
   "id": "716fe917-f4aa-4917-ba16-12f7c4c2a9c8",
   "metadata": {},
   "outputs": [],
   "source": [
    "# Remove some outliers in lenght_comments\n",
    "\n",
    "quantile_95 = df_reviews_sample_sentiment_bitrigrams[\"length_comments\"].quantile(0.95)\n",
    "df_95 = df_reviews_sample_sentiment_bitrigrams[df_reviews_sample_sentiment_bitrigrams[\"length_comments\"] < quantile_95]"
   ]
  },
  {
   "cell_type": "code",
   "execution_count": 72,
   "id": "65fc67bc-3d2d-464e-bbcc-1ec75ec8ce68",
   "metadata": {},
   "outputs": [
    {
     "data": {
      "image/png": "[encoded data removed]",
      "text/plain": [
       "<Figure size 720x576 with 1 Axes>"
      ]
     },
     "metadata": {},
     "output_type": "display_data"
    }
   ],
   "source": [
    "y = df_95[\"main_topic\"].map(topic_list)\n",
    "x = df_95[\"length_comments\"]\n",
    "\n",
    "plt.figure(figsize=(10,8))\n",
    "\n",
    "ax = sns.boxplot(x=x, y=y, data=df_reviews_sample_sentiment_bitrigrams, palette=\"Set2\" )\n",
    "\n",
    "ax.set_title('Length Comments Distribution by Topic', fontsize=16)\n",
    "ax.set_ylabel('Topic', fontsize=15)\n",
    "ax.set_xlabel('Number of Words', fontsize=15)\n",
    "\n",
    "plt.show()"
   ]
  },
  {
   "cell_type": "code",
   "execution_count": 73,
   "id": "3861108e-38f8-41cb-84b2-decbe116ab76",
   "metadata": {},
   "outputs": [],
   "source": [
    "ax.figure.savefig('length_comments_topic.png',dpi=600, bbox_inches = \"tight\")"
   ]
  },
  {
   "cell_type": "markdown",
   "id": "65f06707-6732-456e-8770-e96e53be8fcb",
   "metadata": {},
   "source": [
    "Looking at the **length of comments distribution** by topics: <br>\n",
    "- The most **wordy** topic is **Accommodation features**\n",
    "- The most **concise** topic is **Good feelings**\n",
    "- The most **diverse** topics are **Accommodation features**, **Location**, **Complaints**\n",
    "- Most topics are **right-skewed**\n"
   ]
  },
  {
   "cell_type": "markdown",
   "id": "1a6fde60-33e3-418d-a9d8-65854553f27c",
   "metadata": {},
   "source": [
    "<a class=\"anchor\" id='chapter4_2_4'></a>\n",
    "### Evaluate LDA Model"
   ]
  },
  {
   "cell_type": "markdown",
   "id": "015748a7-52e9-4a35-a111-17057bcbcf6c",
   "metadata": {},
   "source": [
    "Like each algorithm LDA also needs to evaluate how good the trained model is. There are two convenient measurement techniques:<br>\n",
    "* **Perplexity Score**: Lower is better\n",
    "* **Coherence Score**: Higher is better"
   ]
  },
  {
   "cell_type": "code",
   "execution_count": 34,
   "id": "430cfd72-7c52-4a73-822d-fb541d840eae",
   "metadata": {},
   "outputs": [
    {
     "name": "stdout",
     "output_type": "stream",
     "text": [
      "\n",
      "Perplexity:  -7.1401473452000115\n",
      "\n",
      "Coherence Score:  0.5993569972468963\n"
     ]
    }
   ],
   "source": [
    "# Compute Perplexity Score\n",
    "print('\\nPerplexity: ', lda_model_final.log_perplexity(corpus))\n",
    "\n",
    "# Compute Coherence Score\n",
    "coherence_model_lda = CoherenceModel(model=lda_model_final, texts=data_words, dictionary=id2word, coherence='c_v')\n",
    "coherence_lda = coherence_model_lda.get_coherence()\n",
    "print('\\nCoherence Score: ', coherence_lda)"
   ]
  },
  {
   "cell_type": "markdown",
   "id": "865d77f3-f834-45ba-8959-3baea1175012",
   "metadata": {},
   "source": [
    "[Back to TOC](#Table-of-Contents:)\n",
    "<a class=\"anchor\" id='chapter4.3'></a>\n",
    "### Visualize topic-keyword of LDA"
   ]
  },
  {
   "cell_type": "markdown",
   "id": "b2ac872e-4b42-499a-9a0e-2d57fc9c56d1",
   "metadata": {},
   "source": [
    "The next step os to examine the topics from LDA and the associated keywords. <br>\n",
    "We use the **pyLDAvis** library for interactive topic visualization. pyLDAvis is **designed to help users interpret the topics in a topic model** that has been fit to a corpus of text data. The package extracts information from a fitted LDA topic model to inform an **interactive web-based visualization**. <br>\n",
    "\n",
    "pyLDAvis attempts to aswer the following questions: <br>\n",
    "1. What is the meaning of each topic?\n",
    "2. How prevalent is each topic?\n",
    "3. How do the topics relate to each other?\n",
    "\n",
    "**Reference:**<br>\n",
    "Sievert, Carson, and Kenneth Shirley. \"LDAvis: A method for visualizing and interpreting topics.\" Proceedings of the workshop on interactive language learning, visualization, and interfaces. 2014. https://nlp.stanford.edu/events/illvi2014/papers/sievert-illvi2014.pdf <br>\n",
    "https://pypi.org/project/pyLDAvis/\n",
    "\n",
    "**Packages** required: <br>\n",
    "- pyLDAvis\n",
    "- reload\n",
    "\n"
   ]
  },
  {
   "cell_type": "code",
   "execution_count": 69,
   "id": "7d27a150-408e-475b-bfd1-22048f3a0674",
   "metadata": {},
   "outputs": [
    {
     "name": "stderr",
     "output_type": "stream",
     "text": [
      "/Users/loredanafattorini/miniforge3/lib/python3.9/site-packages/pyLDAvis/_prepare.py:246: FutureWarning: In a future version of pandas all arguments of DataFrame.drop except for the argument 'labels' will be keyword-only\n",
      "  default_term_info = default_term_info.sort_values(\n",
      "/Users/loredanafattorini/miniforge3/lib/python3.9/site-packages/past/builtins/misc.py:45: DeprecationWarning: the imp module is deprecated in favour of importlib; see the module's documentation for alternative uses\n",
      "  from imp import reload\n",
      "/Users/loredanafattorini/miniforge3/lib/python3.9/site-packages/past/builtins/misc.py:45: DeprecationWarning: the imp module is deprecated in favour of importlib; see the module's documentation for alternative uses\n",
      "  from imp import reload\n",
      "/Users/loredanafattorini/miniforge3/lib/python3.9/site-packages/past/builtins/misc.py:45: DeprecationWarning: the imp module is deprecated in favour of importlib; see the module's documentation for alternative uses\n",
      "  from imp import reload\n",
      "/Users/loredanafattorini/miniforge3/lib/python3.9/site-packages/past/builtins/misc.py:45: DeprecationWarning: the imp module is deprecated in favour of importlib; see the module's documentation for alternative uses\n",
      "  from imp import reload\n",
      "/Users/loredanafattorini/miniforge3/lib/python3.9/site-packages/past/builtins/misc.py:45: DeprecationWarning: the imp module is deprecated in favour of importlib; see the module's documentation for alternative uses\n",
      "  from imp import reload\n",
      "/Users/loredanafattorini/miniforge3/lib/python3.9/site-packages/past/builtins/misc.py:45: DeprecationWarning: the imp module is deprecated in favour of importlib; see the module's documentation for alternative uses\n",
      "  from imp import reload\n",
      "/Users/loredanafattorini/miniforge3/lib/python3.9/site-packages/past/builtins/misc.py:45: DeprecationWarning: the imp module is deprecated in favour of importlib; see the module's documentation for alternative uses\n",
      "  from imp import reload\n",
      "/Users/loredanafattorini/miniforge3/lib/python3.9/site-packages/past/builtins/misc.py:45: DeprecationWarning: the imp module is deprecated in favour of importlib; see the module's documentation for alternative uses\n",
      "  from imp import reload\n"
     ]
    },
    {
     "data": {
      "text/html": [
       "\n",
       "<link rel=\"stylesheet\" type=\"text/css\" href=\"https://cdn.jsdelivr.net/gh/bmabey/pyLDAvis@3.3.1/pyLDAvis/js/ldavis.v1.0.0.css\">\n",
       "\n",
       "\n",
       "<div id=\"ldavis_el7713859980289449921707526\"></div>\n",
       "<script type=\"text/javascript\">\n",
       "\n",
       "var ldavis_el7713859980289449921707526_data = {\"mdsDat\": {\"x\": [-0.11658206737915255, -0.033067779078088125, -0.16542654938890736, 0.04879868803731442, -0.13112889570016356, 0.19882753793843097, 0.31200809335549107, -0.11342902778492443], \"y\": [0.2879551028456152, 0.13550643240454913, -0.15847157764949651, -0.12620205459597275, -0.0004258660784363789, -0.10334071324207522, 0.08112382822177108, -0.11614515190595452], \"topics\": [1, 2, 3, 4, 5, 6, 7, 8], \"cluster\": [1, 1, 1, 1, 1, 1, 1, 1], \"Freq\": [8.874749379914212, 15.833814462651258, 11.153423474539888, 10.432188197718036, 12.780142404451164, 17.01253838770237, 10.395133309247953, 13.518010383775128]}, \"tinfo\": {\"Term\": [\"view\", \"give\", \"house\", \"flat\", \"check\", \"amazing\", \"bus\", \"street\", \"easy\", \"welcome\", \"bed\", \"distance\", \"terrace\", \"lovely\", \"home\", \"bathroom\", \"night\", \"accommodation\", \"provide\", \"quiet\", \"tip\", \"attraction\", \"area\", \"communication\", \"feel\", \"information\", \"kitchen\", \"love\", \"kind\", \"foot\", \"view\", \"flat\", \"terrace\", \"chiara\", \"luca\", \"spectacular\", \"rooftop\", \"roof\", \"guido\", \"stunning\", \"dome\", \"mercato\", \"thoroughly\", \"centrale\", \"sara\", \"lorenzos\", \"martina\", \"sunset\", \"marina\", \"giuseppe\", \"breathtaking\", \"lucas\", \"alice\", \"stroll\", \"francescos\", \"breathtake\", \"gian\", \"mirko\", \"tuck\", \"deck\", \"balcony\", \"gorgeous\", \"amazing\", \"lovely\", \"worth\", \"brilliant\", \"enjoy\", \"centre\", \"fantastic\", \"love\", \"absolutely\", \"incredible\", \"wonderful\", \"heart\", \"duomo\", \"definitely\", \"stylish\", \"space\", \"decorate\", \"explore\", \"spacious\", \"come\", \"firenze\", \"right\", \"central\", \"want\", \"vecchio\", \"ponte\", \"piazza\", \"river\", \"cafe\", \"uffizi\", \"bridge\", \"michele\", \"pitti\", \"gelato\", \"palazzo\", \"palace\", \"arno\", \"crowd\", \"touristy\", \"gallery\", \"spirito\", \"santo\", \"della\", \"signoria\", \"barbara\", \"bakery\", \"pizza\", \"bustle\", \"famous\", \"michelangelo\", \"claudio\", \"hustle\", \"irene\", \"boboli\", \"major\", \"walking\", \"distance\", \"attraction\", \"tourist\", \"shop\", \"grocery\", \"away\", \"main\", \"market\", \"site\", \"museum\", \"corner\", \"block\", \"sight\", \"bar\", \"duomo\", \"right\", \"neighborhood\", \"area\", \"local\", \"min\", \"nearby\", \"train\", \"quiet\", \"street\", \"food\", \"near\", \"easy\", \"feel\", \"love\", \"want\", \"definitely\", \"tip\", \"information\", \"map\", \"precise\", \"giulia\", \"give\", \"roberto\", \"tommaso\", \"father\", \"splendid\", \"organized\", \"ice\", \"antonio\", \"bottle\", \"cream\", \"info\", \"luigi\", \"sandra\", \"valuable\", \"elisa\", \"chianti\", \"biscuit\", \"giorgio\", \"alessandros\", \"cristiana\", \"tiziana\", \"nest\", \"breditz\", \"complimentary\", \"boiler\", \"camilla\", \"detailed\", \"massimo\", \"recommendation\", \"provide\", \"wine\", \"daniele\", \"useful\", \"eat\", \"guide\", \"explain\", \"greet\", \"snack\", \"suggestion\", \"advice\", \"arrival\", \"tour\", \"local\", \"direction\", \"marco\", \"show\", \"meet\", \"lot\", \"welcome\", \"visit\", \"help\", \"leave\", \"arrive\", \"breakfast\", \"receive\", \"thing\", \"wait\", \"friendly\", \"wonderful\", \"train\", \"kind\", \"bus\", \"parking\", \"car\", \"stop\", \"maria\", \"position\", \"transport\", \"tram\", \"public\", \"park\", \"novella\", \"strategic\", \"garage\", \"repeat\", \"reachable\", \"fabio\", \"fiore\", \"bril\", \"brje\", \"connected\", \"structure\", \"isabella\", \"conform\", \"internal\", \"countryside\", \"importantly\", \"giancarlo\", \"brlappartement\", \"deserve\", \"independent\", \"foot\", \"reach\", \"meter\", \"monument\", \"accommodation\", \"cathedral\", \"appartment\", \"accessible\", \"money\", \"pleasant\", \"house\", \"ideally\", \"value\", \"quiet\", \"min\", \"equip\", \"historic\", \"convenient\", \"near\", \"area\", \"supermarket\", \"kind\", \"available\", \"friendly\", \"central\", \"spacious\", \"visit\", \"welcome\", \"easy\", \"quick\", \"question\", \"respond\", \"checkin\", \"answer\", \"leonardo\", \"response\", \"silvia\", \"reply\", \"prompt\", \"process\", \"riccardo\", \"smooth\", \"max\", \"ilaria\", \"andreas\", \"annalisa\", \"query\", \"smoothly\", \"nicoletta\", \"samuel\", \"azadeh\", \"solo\", \"ample\", \"timely\", \"valeria\", \"giulio\", \"hopefully\", \"bite\", \"extreme\", \"check\", \"communicate\", \"flexible\", \"checkout\", \"accommodate\", \"federico\", \"communication\", \"drop\", \"message\", \"self\", \"easy\", \"early\", \"fast\", \"quickly\", \"let\", \"exactly\", \"super\", \"responsive\", \"describe\", \"meet\", \"definitely\", \"extremely\", \"late\", \"train\", \"arrive\", \"help\", \"amazing\", \"airbnb\", \"book\", \"go\", \"experience\", \"friendly\", \"love\", \"spacious\", \"wonderful\", \"air\", \"conditioning\", \"machine\", \"washing\", \"towel\", \"heat\", \"toilet\", \"lift\", \"internet\", \"fix\", \"conditioner\", \"dryer\", \"steep\", \"clothe\", \"soap\", \"dishwasher\", \"sheet\", \"dish\", \"cost\", \"microwave\", \"wash\", \"hair\", \"correct\", \"strong\", \"shampoo\", \"paper\", \"lock\", \"pressure\", \"system\", \"iron\", \"elevator\", \"hot\", \"water\", \"fridge\", \"wifi\", \"stair\", \"work\", \"floor\", \"suitcase\", \"issue\", \"shower\", \"problem\", \"summer\", \"use\", \"say\", \"kitchen\", \"difficult\", \"cold\", \"luggage\", \"bathroom\", \"coffee\", \"door\", \"leave\", \"bed\", \"thing\", \"day\", \"find\", \"small\", \"building\", \"like\", \"bit\", \"provide\", \"noise\", \"sleep\", \"noisy\", \"hear\", \"ceiling\", \"mosquito\", \"loud\", \"double\", \"earplug\", \"sleeper\", \"possibility\", \"face\", \"antonella\", \"oil\", \"winter\", \"mezzanine\", \"ztl\", \"natural\", \"ear\", \"brown\", \"tall\", \"olive\", \"midnight\", \"annoying\", \"disturb\", \"beam\", \"carmine\", \"shutter\", \"green\", \"edoardo\", \"window\", \"sound\", \"living\", \"bedroom\", \"sofa\", \"bit\", \"street\", \"night\", \"bed\", \"open\", \"light\", \"bother\", \"bathroom\", \"small\", \"kitchen\", \"little\", \"people\", \"large\", \"courtyard\", \"big\", \"fine\", \"outside\", \"morning\", \"space\", \"busy\", \"area\", \"quiet\", \"lot\", \"shower\", \"problem\", \"central\", \"comfort\", \"attention\", \"impeccable\", \"availability\", \"kindness\", \"magnificent\", \"hesitation\", \"maurizio\", \"mario\", \"casa\", \"brla\", \"elisabetta\", \"cat\", \"dog\", \"federica\", \"caring\", \"maximum\", \"surely\", \"exceed\", \"beauty\", \"carla\", \"patrizia\", \"reality\", \"discreet\", \"appreciable\", \"giovanna\", \"jacopo\", \"characteristic\", \"roberta\", \"delighted\", \"expectation\", \"hospitality\", \"detail\", \"doubt\", \"home\", \"soon\", \"taste\", \"pleasure\", \"care\", \"feel\", \"moment\", \"special\", \"cleanliness\", \"welcome\", \"house\", \"experience\", \"return\", \"warm\", \"like\", \"kind\", \"hope\", \"attentive\", \"decoration\", \"hostess\", \"come\", \"airbnb\", \"family\", \"spend\", \"guest\", \"wonderful\", \"day\", \"accommodation\", \"visit\", \"friendly\", \"super\", \"available\", \"photo\", \"help\", \"equip\"], \"Freq\": [4253.0, 4642.0, 5799.0, 3305.0, 4089.0, 4536.0, 2571.0, 3621.0, 5033.0, 5205.0, 4534.0, 3425.0, 2224.0, 4202.0, 3398.0, 3854.0, 4448.0, 2834.0, 2777.0, 5100.0, 1970.0, 2756.0, 5093.0, 2578.0, 3608.0, 1803.0, 3933.0, 3929.0, 4441.0, 1886.0, 4253.021420114006, 3304.2383114591685, 2223.4019095053595, 792.7973265443779, 620.207599360085, 448.683127280371, 366.33833400064884, 348.6352367975311, 345.00276306643065, 343.6328894983461, 292.6572564286186, 231.99134202992727, 224.08453743892147, 221.9765203018852, 203.89126825212443, 190.10976646142018, 179.324250925532, 176.80007697279814, 166.32010690883115, 159.80825758530506, 137.52252051583883, 128.88444621073643, 116.53429788586713, 106.51024980048128, 103.49571463199113, 102.18941110327337, 94.57920547844215, 92.59513636285928, 92.5670200227074, 85.30796693477157, 908.1029010114768, 394.80665749886094, 2687.5539737443933, 2309.7060431816617, 545.830705773173, 204.40937850281136, 1688.5528952376817, 701.9938088518815, 1250.6335600129696, 1533.3280296198925, 917.4681347103425, 472.183770095996, 1594.5763501737176, 728.2786602261738, 1114.8854560396308, 1353.2478645489894, 536.8920708527238, 814.8691520492671, 462.815213159414, 427.0730219293416, 717.0294655752457, 639.1108751190611, 440.6009781730214, 475.3754075986746, 481.4404563566144, 442.6714951960386, 1625.8105961970844, 1459.0772617937255, 1141.382199601418, 813.5849634594452, 781.125481436922, 630.9636242875818, 572.3797155954376, 473.8615350018685, 451.6435614485896, 433.06610399578426, 431.59168576934036, 391.69545390808725, 389.9299466785899, 374.450583686992, 363.7714743290449, 355.6008856185522, 351.5174948256114, 333.99202079711296, 330.966417733214, 320.56004828593234, 276.92203705073786, 267.1382260951925, 265.2996345555374, 228.6467295976241, 217.56105365774292, 207.64578768232593, 195.4117175682522, 178.93621418096703, 174.15978628207506, 156.142100970862, 1170.2749051583537, 1817.9846351370347, 3252.2185988987203, 2530.7797192298317, 1986.207116970251, 1689.6462148486914, 567.8498614269944, 2391.846882503169, 2034.6257533031917, 1279.7686827404455, 1233.344230761185, 618.2580012226997, 711.5869149416161, 669.3921159934301, 1002.7455072399976, 964.3007260337639, 1798.0009756413913, 1651.8693031582545, 1099.0896636509203, 2100.348707171852, 1174.4111900186374, 1183.6349167731962, 941.5129008204551, 1540.536621977113, 1633.5197114752063, 1278.6637428369168, 854.9743371108035, 1032.7376604551212, 1222.435133629599, 1048.5538915629243, 1031.900654747585, 945.3462384207, 956.5975398841347, 1969.5231342913203, 1802.3654964686173, 1404.341476901557, 483.8236425983856, 326.57358721415346, 4628.9054475487965, 282.975814969822, 267.4363629681496, 246.0137913677288, 230.09603550675968, 220.31016535584985, 206.7530387658706, 200.74024952935397, 1220.3112671379154, 185.39324670189092, 179.72301919362997, 123.98055002109216, 118.53378776754421, 117.30406941771055, 116.9421748455123, 170.61569999173997, 113.6331261490014, 113.55203591443163, 99.99544787439733, 99.41227521971155, 92.84905496699969, 81.29293817455913, 75.61240128163752, 74.17156585797174, 74.31787558995774, 146.92458017010233, 222.08990806171622, 240.05628593168467, 1619.0770348414144, 2120.748310542312, 1381.5546154099536, 409.8613913205527, 675.6082681572852, 1490.1725336643638, 374.7757196899626, 679.5286919402935, 713.0934985263151, 298.6002699362765, 640.2254488468594, 869.0997673172534, 1240.2830731131344, 436.52409784869985, 1185.630497139414, 400.2485605642032, 416.4921061694278, 707.1215731407242, 1217.1941840197449, 1427.493936870082, 1617.9865701202061, 1467.4661249400483, 1037.7259539041572, 989.574313233392, 930.255037124361, 715.5505172466377, 506.75184597350307, 689.210193310033, 544.7677568638079, 724.64119635431, 704.189531387316, 671.8739408572987, 630.497126604354, 2570.3025406485367, 1454.995956640869, 1381.8635254496726, 1201.8419563087589, 843.4481564651844, 840.642266221539, 753.40834090651, 722.3624540732794, 700.8937504437314, 643.9668198553022, 458.18095473800565, 359.80731290303453, 345.90866561330586, 235.4658221908716, 217.97792085999222, 201.86321405606958, 121.82762712655442, 121.43812460793711, 110.8802820239335, 108.37963864046655, 98.38102294316525, 94.8733414556641, 91.91925336281736, 91.43280954855854, 72.91915520073772, 69.50600432660578, 65.60820865483613, 65.62726795092514, 65.12043870832517, 64.01498925506762, 1752.5076621542207, 1130.432469035857, 316.1107823103912, 237.2931090731917, 2060.189917953379, 465.7493251422486, 490.5891597577064, 382.9714097963363, 417.18714335580967, 1400.2522303830847, 2938.1751637470456, 410.6947699327126, 569.2258005223453, 2201.6461631089137, 1225.4180794087745, 1301.844417512407, 758.0579045038704, 1051.5528068259407, 1093.3195991097143, 1654.17106978155, 747.4926808116726, 1301.3834580535984, 932.9292283016205, 1118.4945648214514, 1092.11271595931, 1039.6311040412204, 994.3063297652188, 935.2720208267019, 707.7926810630141, 1737.6744313159654, 1698.4764251909594, 1463.257256523244, 1413.6691491859483, 1239.0684587663852, 470.96274390994546, 445.0657236755918, 427.37443213824434, 336.0491027494313, 284.1701547609022, 279.8186380731288, 247.78041888656554, 232.8484076485217, 229.32143340182947, 224.21443876996423, 162.97222650605812, 145.72960232278504, 140.63360209388694, 132.9760570994617, 120.79866644812374, 109.11256063040284, 105.18165856748355, 104.96062447071827, 98.56307835654313, 98.19520664076842, 86.47318955150024, 84.74240857306322, 79.82652512679499, 74.05314751508877, 73.87641217254672, 3887.9275738287065, 857.7438756579672, 532.1259803422286, 445.042802927138, 1259.8099729825858, 340.77808134525833, 2087.4313506472863, 293.1249133672704, 621.1166677813893, 170.45528415442425, 3101.0944488542646, 937.3651152571955, 560.0917618441703, 779.5172754454284, 685.1156289872149, 847.8139021739787, 1898.7805940524377, 830.8542610773853, 598.5414433136128, 1217.695440148829, 1528.1238814024068, 832.8082674768904, 628.1820514613651, 1247.8524955782261, 958.4907912925361, 998.4902679843555, 1183.0878302482292, 856.858177637495, 729.0749546322397, 769.1215825780212, 880.5588360419891, 787.7481917780981, 803.1368800383573, 822.2652773161229, 719.0964697619632, 2097.7066358515312, 1218.473734077501, 1027.1371767986407, 810.1090098430262, 805.9817219020542, 498.7534231877311, 441.9879918254119, 390.40041311010276, 341.8270930700827, 318.4139813080998, 287.4578129450219, 281.44713303176593, 268.55535991036527, 267.8354080816095, 265.8067181118909, 246.575261592793, 242.56579461939577, 240.72915886204711, 230.90633024351493, 222.26893680400588, 221.1671732882106, 209.52713897798415, 199.97676715584126, 195.3462589553802, 194.7523762325097, 188.34040427303356, 188.06231460170045, 185.13563372018066, 184.1979947451589, 178.52114649486754, 783.3083943826919, 1234.2903104554402, 1344.0191167090766, 381.9165993353564, 1115.6445961077168, 1363.1954347588585, 1770.7603578093474, 1640.1393525051883, 422.5272471199851, 766.1227611612666, 1307.9901756399047, 1331.0905957844711, 462.55505999301704, 855.8577448598832, 388.93432328990605, 1663.945625526642, 402.55002142863896, 449.37953079632194, 807.3921535531633, 1500.2592419541058, 779.8858193320116, 781.9166719233604, 1064.5366499880697, 1346.4522504526626, 938.2714664083172, 1322.6614007792691, 910.3222809237259, 995.3431518166885, 655.1097264784763, 741.6640134588214, 626.7650327031874, 639.6586834495695, 1667.0792689901864, 1474.2347731484083, 1234.1822866798586, 597.2126972149628, 542.369346688539, 410.88434768696675, 348.89704229604877, 302.1566506237693, 251.93256069444897, 230.71740928623706, 216.55803600311637, 209.62772124979654, 193.28021677431124, 185.6063000383308, 163.0284348964386, 131.3588083355981, 129.10454458868128, 125.48509840522676, 120.18191492441272, 119.51071456746081, 113.78297565666342, 104.96015943904251, 101.40060746972476, 99.60774531120583, 89.04054980072519, 87.30563557608205, 87.20675429524363, 85.1233585898709, 83.29696919296141, 77.82753240353787, 1642.612190573276, 203.451211085137, 728.2915177696476, 1588.2666370761306, 418.5571171419512, 1434.50197379939, 2342.058277850899, 2698.189705338515, 2630.0998894071763, 639.9904213015529, 701.8057164917211, 240.06664309655318, 2090.0142465153967, 1852.272220075405, 1682.7798094197592, 1482.2752461625946, 1082.3952080455654, 1044.7245643381245, 325.3327101256658, 706.15612407972, 378.97981534220554, 570.9166889932234, 526.2022726368275, 698.6409418643935, 361.451697260406, 784.4807518272843, 774.3900876733356, 632.480647696636, 502.3779174235767, 504.650066461734, 494.6877338820466, 971.2862132758981, 826.0723231785065, 679.0496641572084, 532.6221842109129, 502.52764963586986, 335.76713142355857, 310.331085314882, 190.6080969087734, 190.16540249965175, 189.6093203491151, 172.5726789922333, 168.76002950808325, 166.78514860867833, 163.48202463076916, 154.83682211057808, 147.89572598089367, 143.1550207452587, 137.99677101307154, 128.29719037863262, 123.09091870004028, 121.43498078614975, 118.62293282883067, 111.9177769806244, 101.71546451336113, 101.50290246099286, 97.54067893378853, 96.01415383801904, 94.14320282095899, 93.79198322625186, 93.19014368711554, 344.92830677927213, 977.30961733629, 1136.7733839550965, 421.5049150936099, 2604.68351802603, 542.5586908755218, 370.87816773309186, 443.8860993645031, 660.3338665084655, 2294.933358392904, 242.70941774481673, 433.3709582178003, 590.4427390312826, 2651.672293234773, 2860.68597001479, 1632.4519451128272, 1170.2927824714877, 985.9543669449199, 1819.0846507568037, 1954.6526968443884, 527.8436475389976, 715.1085644385607, 290.6533035103562, 433.51389177811313, 1205.7927366027257, 922.7781062726505, 828.9797489822225, 701.3373355116622, 601.7080349324547, 1115.8226542453058, 952.6785815646892, 773.459825041117, 905.6351372663356, 799.120781702666, 746.734632778402, 670.0746088112518, 631.5843194187592, 641.2135389100879, 629.9688105221612], \"Total\": [4253.0, 4642.0, 5799.0, 3305.0, 4089.0, 4536.0, 2571.0, 3621.0, 5033.0, 5205.0, 4534.0, 3425.0, 2224.0, 4202.0, 3398.0, 3854.0, 4448.0, 2834.0, 2777.0, 5100.0, 1970.0, 2756.0, 5093.0, 2578.0, 3608.0, 1803.0, 3933.0, 3929.0, 4441.0, 1886.0, 4253.929803671106, 3305.1466670469854, 2224.3105602964524, 793.7058428755008, 621.116118768227, 449.59177086450103, 367.24643985985284, 349.5436070056034, 345.911319623729, 344.54106107620237, 293.5660780120508, 232.89972296465493, 224.9929305737911, 222.88482746483757, 204.80027266793005, 191.01796678369809, 180.23289903185952, 177.7083791757457, 167.22873260863452, 160.71690175660146, 138.4308391596833, 129.7926064400983, 117.4431175111244, 107.41915073037771, 104.40406667909005, 103.09744680379335, 95.48769871057351, 93.50407791491325, 93.47578247081982, 86.2161363931357, 1070.683919295184, 486.1837512293986, 4536.1907143594035, 4202.622949399755, 758.5491577951252, 238.79620267011285, 3786.940988234765, 1315.171355935854, 2929.4203748150935, 3929.4303920301236, 1983.0864783749587, 808.442278966477, 5027.04659121248, 1675.7432993375216, 3506.761659392054, 4855.630177381934, 1116.1044448637704, 3258.029387749762, 1308.284005058909, 1104.7583144952844, 4592.672118407945, 3475.1781349708936, 1801.224196510299, 3111.7884398157184, 3731.7534590248724, 3070.412853484885, 1626.7243408153158, 1459.9909927782753, 1142.2963071100282, 814.4987710800144, 782.0393567893748, 631.8774024418913, 573.2941832172886, 474.77562667988644, 452.5573248275798, 433.9798618253633, 432.50556419302643, 392.60946881076234, 390.8438316143026, 375.36434852994364, 364.68531207215665, 356.5146876509428, 352.43097429814156, 334.90551646168905, 331.8806835110882, 321.4740204581942, 277.8360019129116, 268.0523849133082, 266.2136726981766, 229.5605006604294, 218.47494664035392, 208.55960094952405, 196.325969591654, 179.84993114542584, 175.07414056804961, 157.0555773213148, 1178.2261730329164, 1843.6485751138043, 3425.4185202701615, 2756.6659917349916, 2381.548141605798, 2013.2656403120525, 620.057078289058, 3150.5373556587224, 2676.1673508013378, 1661.1826638393763, 1649.292998538546, 716.2659799970643, 858.6184236874091, 817.7084496510198, 1426.6279695093183, 1367.0576290911708, 3506.761659392054, 3111.7884398157184, 1779.578376557061, 5093.171432260336, 2360.8191342971795, 2422.838605271855, 1695.2217991946563, 4317.495781770247, 5100.510215382445, 3621.5054404815282, 1429.6988983922472, 2490.534807627617, 5033.912884602415, 3608.204936576235, 3929.4303920301236, 3070.412853484885, 4855.630177381934, 1970.4462526633413, 1803.288858494435, 1405.2646634608473, 484.75061120272153, 327.49732195811197, 4642.179108845422, 283.899259953446, 268.38289712410153, 246.93719289181973, 231.02281451119143, 221.23395876297212, 207.67645777992345, 201.6634500660207, 1226.061212252978, 186.3166588239046, 180.64635201350816, 124.90402596406605, 119.4571614083136, 118.22743223376077, 117.86580042686957, 172.0020157743776, 114.55644619732516, 114.47537695737691, 100.91866054795179, 100.33577964596371, 93.77280553640628, 82.21702525632706, 76.53532552628644, 75.09453332855256, 75.2438881767809, 150.01015206122207, 232.6037356187111, 258.96289251497586, 2034.7334859747966, 2777.0356354735177, 1773.6553502322774, 474.4146788430586, 835.3243549608403, 2183.4725990765746, 451.1503247512584, 917.5809766721899, 972.2468911093052, 357.68744504533595, 911.9702822981701, 1345.6889635748719, 2256.252886066182, 598.9915404694113, 2360.8191342971795, 540.7256070971288, 581.1539177183457, 1322.2561349771509, 3042.2460972610766, 3941.729810803361, 5205.6407583512755, 4735.208905478115, 3124.7771167305063, 2911.677285138968, 2676.6923132594516, 1965.368979545203, 928.3460115219482, 2374.8819159250547, 1285.1892546764225, 3512.122104928232, 5027.04659121248, 4317.495781770247, 4441.233462001629, 2571.259892753577, 1455.9531711739617, 1382.8208399508542, 1202.7994088824717, 844.4055427098957, 841.6003497762604, 754.3656667698064, 723.3195637700311, 701.8509924960142, 644.9241247741239, 459.1383802894687, 360.76520390215194, 346.8658593567899, 236.42449617318798, 218.93546220449156, 202.82060792474763, 122.78468538541141, 122.3967697554487, 111.83979358699825, 109.33718250490143, 99.33963028289996, 95.83097603953505, 92.8776324236309, 92.39114110003285, 73.8773994661845, 70.46476712938241, 66.56561524176962, 66.58655133254801, 66.07954028777358, 64.97317964026986, 1886.7036996373888, 1298.5291898768048, 353.42727947580676, 263.86546650893473, 2834.4960692129025, 569.5485855924126, 611.0287751023538, 468.81197064242514, 520.0516479699238, 2129.457158473019, 5799.707309531668, 556.7321499952257, 835.3167935352922, 5100.510215382445, 2422.838605271855, 2723.5038824864155, 1329.8713873356487, 2313.663804493153, 2490.534807627617, 5093.171432260336, 1527.0116960741154, 4441.233462001629, 2407.595548380528, 3512.122104928232, 3731.7534590248724, 4592.672118407945, 4735.208905478115, 5205.6407583512755, 5033.912884602415, 1738.5849284086787, 1699.387007110831, 1464.1678002874796, 1414.579723753747, 1239.9791848308514, 471.8734036428063, 445.9760317359506, 428.2849994487182, 336.95961437104745, 285.080531555053, 280.7288434007416, 248.6911270805866, 233.75873492349405, 230.23216473557335, 225.1251356889685, 163.8825962931115, 146.63998069990183, 141.5440793903268, 133.88649368575793, 121.70929810953642, 110.02306416852056, 106.09201618848938, 105.87116301648531, 99.47476598276131, 99.10592436400758, 87.38446446427199, 85.65317433148296, 80.7370666663746, 74.96496437374662, 74.78981057645899, 4089.597820378791, 896.1780669370394, 562.8048380145536, 473.78515897171513, 1479.434662384963, 370.6445552687202, 2578.2747642739077, 318.7606080081427, 743.592250096933, 181.38294714978548, 5033.912884602415, 1276.7759158186243, 708.1686342926497, 1050.9959980691747, 926.6986075832971, 1257.2142036244145, 3615.9997022256066, 1508.48212998749, 967.782989873525, 3042.2460972610766, 4855.630177381934, 1791.3459534612293, 1191.8468570191887, 4317.495781770247, 2676.6923132594516, 3124.7771167305063, 4536.1907143594035, 2395.9552754614315, 1706.293313510841, 2016.8223830738018, 3066.2905724927878, 3512.122104928232, 3929.4303920301236, 4592.672118407945, 5027.04659121248, 2098.633958648689, 1219.4010033368695, 1028.0643269347063, 811.036130623194, 806.9090175908167, 499.68074289693516, 442.9151784874534, 391.3277693829598, 342.7543564652983, 319.3410597530985, 288.3848864559483, 282.37412619165644, 269.4825972130807, 268.76248839396055, 266.7337258686658, 247.50254493945965, 243.4931575719467, 241.65640993849925, 231.83401396024905, 223.19639555471088, 222.0942162888185, 210.4542653385214, 200.9052466635038, 196.27379650791445, 195.67932593593025, 189.26732514618533, 188.98940594422328, 186.06266729865007, 185.12532064000823, 179.44831141575457, 819.1229826469065, 1332.0682340452872, 1474.7264211978616, 406.3835670736832, 1308.159569486324, 1634.9250199760927, 2313.406415550718, 2129.169682156315, 464.8011278831865, 919.6773435044081, 1811.1647616976245, 2080.520189747146, 553.4736370133794, 1221.8537356484105, 467.61413064669443, 3933.645335843669, 492.6727870174136, 582.4121760209694, 1449.4959575851897, 3854.6546859785094, 1512.2731349089952, 1607.4614670046399, 2911.677285138968, 4534.119526293722, 2374.8819159250547, 4878.551036994624, 3010.239248580758, 4038.207044694922, 1669.9081902312032, 3860.0724674762832, 2062.0638187097557, 2777.0356354735177, 1668.0080777959222, 1475.1637711929993, 1235.1110562659908, 598.1415716006876, 543.3247822505415, 411.81327879960264, 349.82568859693555, 303.0858224934834, 252.8612312574847, 231.64600815445112, 217.489086069143, 210.55687038385622, 194.20989304841748, 186.5359096674761, 163.9577880877368, 132.2880613351656, 130.0345884756644, 126.41414552551011, 121.11048255394374, 120.44500950445334, 114.7117265955926, 105.88966516991557, 102.32982348145826, 100.53656730973255, 89.96986417001473, 88.23481673908965, 88.1360210335684, 86.0521775675873, 84.22659327892623, 78.75686003941846, 1722.178748523132, 216.6052450680663, 861.291081080343, 2106.011448262098, 493.78662169386195, 2062.0638187097557, 3621.5054404815282, 4448.207825397681, 4534.119526293722, 870.9858701459349, 983.7383542593591, 277.8762106166183, 3854.6546859785094, 4038.207044694922, 3933.645335843669, 3668.322417739917, 2454.9833928905027, 2410.06772054874, 477.3584797432435, 1875.2295571043292, 640.3822663426602, 1459.2403791423199, 1397.2612060698928, 3258.029387749762, 625.4568301112583, 5093.171432260336, 5100.510215382445, 3941.729810803361, 1811.1647616976245, 2080.520189747146, 3731.7534590248724, 972.2351061684282, 827.0281928411766, 679.9986666021937, 533.5715099270136, 503.4763276157498, 336.7160854714374, 311.28010872033894, 191.5562884276481, 191.1137186105621, 190.55776505357056, 173.52254962159256, 169.70846295586307, 167.73339900217871, 164.4304246155927, 155.78528595225634, 148.84399879128716, 144.10531352055943, 138.94535346355016, 129.24531644126074, 124.03927599685244, 122.38312407001912, 119.57110853725332, 112.86724649913599, 102.66515605387971, 102.4575219306315, 98.4891256494589, 96.96271290296576, 95.09251701470599, 94.74017936260485, 94.13882623695302, 366.80605617839865, 1117.8480778894152, 1328.2820956781202, 463.60826649465275, 3398.5082974556017, 635.6143740160121, 420.80158854402356, 517.6757835657479, 807.4312882684283, 3608.204936576235, 273.08538112014895, 546.9921689180708, 797.5837791841262, 5205.6407583512755, 5799.707309531668, 3066.2905724927878, 2064.7821237072285, 1682.2492420434928, 3860.0724674762832, 4441.233462001629, 779.9824199554856, 1270.6405942116298, 357.3887175864178, 649.2976503014162, 3475.1781349708936, 2395.9552754614315, 2140.287364034668, 1556.0985195875662, 1193.4657603138353, 5027.04659121248, 4878.551036994624, 2834.4960692129025, 4735.208905478115, 3512.122104928232, 3615.9997022256066, 2407.595548380528, 1806.6244236333318, 3124.7771167305063, 2723.5038824864155], \"Category\": [\"Default\", \"Default\", \"Default\", \"Default\", \"Default\", \"Default\", \"Default\", \"Default\", \"Default\", \"Default\", \"Default\", \"Default\", \"Default\", \"Default\", \"Default\", \"Default\", \"Default\", \"Default\", \"Default\", \"Default\", \"Default\", \"Default\", \"Default\", \"Default\", \"Default\", \"Default\", \"Default\", \"Default\", \"Default\", \"Default\", \"Topic1\", \"Topic1\", \"Topic1\", \"Topic1\", \"Topic1\", \"Topic1\", \"Topic1\", \"Topic1\", \"Topic1\", \"Topic1\", \"Topic1\", \"Topic1\", \"Topic1\", \"Topic1\", \"Topic1\", \"Topic1\", \"Topic1\", \"Topic1\", \"Topic1\", \"Topic1\", \"Topic1\", \"Topic1\", \"Topic1\", \"Topic1\", \"Topic1\", \"Topic1\", \"Topic1\", \"Topic1\", \"Topic1\", \"Topic1\", \"Topic1\", \"Topic1\", \"Topic1\", \"Topic1\", \"Topic1\", \"Topic1\", \"Topic1\", \"Topic1\", \"Topic1\", \"Topic1\", \"Topic1\", \"Topic1\", \"Topic1\", \"Topic1\", \"Topic1\", \"Topic1\", \"Topic1\", \"Topic1\", \"Topic1\", \"Topic1\", \"Topic1\", \"Topic1\", \"Topic1\", \"Topic1\", \"Topic1\", \"Topic1\", \"Topic2\", \"Topic2\", \"Topic2\", \"Topic2\", \"Topic2\", \"Topic2\", \"Topic2\", \"Topic2\", \"Topic2\", \"Topic2\", \"Topic2\", \"Topic2\", \"Topic2\", \"Topic2\", \"Topic2\", \"Topic2\", \"Topic2\", \"Topic2\", \"Topic2\", \"Topic2\", \"Topic2\", \"Topic2\", \"Topic2\", \"Topic2\", \"Topic2\", \"Topic2\", \"Topic2\", \"Topic2\", \"Topic2\", \"Topic2\", \"Topic2\", \"Topic2\", \"Topic2\", \"Topic2\", \"Topic2\", \"Topic2\", \"Topic2\", \"Topic2\", \"Topic2\", \"Topic2\", \"Topic2\", \"Topic2\", \"Topic2\", \"Topic2\", \"Topic2\", \"Topic2\", \"Topic2\", \"Topic2\", \"Topic2\", \"Topic2\", \"Topic2\", \"Topic2\", \"Topic2\", \"Topic2\", \"Topic2\", \"Topic2\", \"Topic2\", \"Topic2\", \"Topic2\", \"Topic2\", \"Topic2\", \"Topic2\", \"Topic2\", \"Topic3\", \"Topic3\", \"Topic3\", \"Topic3\", \"Topic3\", \"Topic3\", \"Topic3\", \"Topic3\", \"Topic3\", \"Topic3\", \"Topic3\", \"Topic3\", \"Topic3\", \"Topic3\", \"Topic3\", \"Topic3\", \"Topic3\", \"Topic3\", \"Topic3\", \"Topic3\", \"Topic3\", \"Topic3\", \"Topic3\", \"Topic3\", \"Topic3\", \"Topic3\", \"Topic3\", \"Topic3\", \"Topic3\", \"Topic3\", \"Topic3\", \"Topic3\", \"Topic3\", \"Topic3\", \"Topic3\", \"Topic3\", \"Topic3\", \"Topic3\", \"Topic3\", \"Topic3\", \"Topic3\", \"Topic3\", \"Topic3\", \"Topic3\", \"Topic3\", \"Topic3\", \"Topic3\", \"Topic3\", \"Topic3\", \"Topic3\", \"Topic3\", \"Topic3\", \"Topic3\", \"Topic3\", \"Topic3\", \"Topic3\", \"Topic3\", \"Topic3\", \"Topic3\", \"Topic3\", \"Topic3\", \"Topic3\", \"Topic3\", \"Topic3\", \"Topic3\", \"Topic3\", \"Topic4\", \"Topic4\", \"Topic4\", \"Topic4\", \"Topic4\", \"Topic4\", \"Topic4\", \"Topic4\", \"Topic4\", \"Topic4\", \"Topic4\", \"Topic4\", \"Topic4\", \"Topic4\", \"Topic4\", \"Topic4\", \"Topic4\", \"Topic4\", \"Topic4\", \"Topic4\", \"Topic4\", \"Topic4\", \"Topic4\", \"Topic4\", \"Topic4\", \"Topic4\", \"Topic4\", \"Topic4\", \"Topic4\", \"Topic4\", \"Topic4\", \"Topic4\", \"Topic4\", \"Topic4\", \"Topic4\", \"Topic4\", \"Topic4\", \"Topic4\", \"Topic4\", \"Topic4\", \"Topic4\", \"Topic4\", \"Topic4\", \"Topic4\", \"Topic4\", \"Topic4\", \"Topic4\", \"Topic4\", \"Topic4\", \"Topic4\", \"Topic4\", \"Topic4\", \"Topic4\", \"Topic4\", \"Topic4\", \"Topic4\", \"Topic4\", \"Topic4\", \"Topic4\", \"Topic5\", \"Topic5\", \"Topic5\", \"Topic5\", \"Topic5\", \"Topic5\", \"Topic5\", \"Topic5\", \"Topic5\", \"Topic5\", \"Topic5\", \"Topic5\", \"Topic5\", \"Topic5\", \"Topic5\", \"Topic5\", \"Topic5\", \"Topic5\", \"Topic5\", \"Topic5\", \"Topic5\", \"Topic5\", \"Topic5\", \"Topic5\", \"Topic5\", \"Topic5\", \"Topic5\", \"Topic5\", \"Topic5\", \"Topic5\", \"Topic5\", \"Topic5\", \"Topic5\", \"Topic5\", \"Topic5\", \"Topic5\", \"Topic5\", \"Topic5\", \"Topic5\", \"Topic5\", \"Topic5\", \"Topic5\", \"Topic5\", \"Topic5\", \"Topic5\", \"Topic5\", \"Topic5\", \"Topic5\", \"Topic5\", \"Topic5\", \"Topic5\", \"Topic5\", \"Topic5\", \"Topic5\", \"Topic5\", \"Topic5\", \"Topic5\", \"Topic5\", \"Topic5\", \"Topic5\", \"Topic5\", \"Topic5\", \"Topic5\", \"Topic5\", \"Topic5\", \"Topic6\", \"Topic6\", \"Topic6\", \"Topic6\", \"Topic6\", \"Topic6\", \"Topic6\", \"Topic6\", \"Topic6\", \"Topic6\", \"Topic6\", \"Topic6\", \"Topic6\", \"Topic6\", \"Topic6\", \"Topic6\", \"Topic6\", \"Topic6\", \"Topic6\", \"Topic6\", \"Topic6\", \"Topic6\", \"Topic6\", \"Topic6\", \"Topic6\", \"Topic6\", \"Topic6\", \"Topic6\", \"Topic6\", \"Topic6\", \"Topic6\", \"Topic6\", \"Topic6\", \"Topic6\", \"Topic6\", \"Topic6\", \"Topic6\", \"Topic6\", \"Topic6\", \"Topic6\", \"Topic6\", \"Topic6\", \"Topic6\", \"Topic6\", \"Topic6\", \"Topic6\", \"Topic6\", \"Topic6\", \"Topic6\", \"Topic6\", \"Topic6\", \"Topic6\", \"Topic6\", \"Topic6\", \"Topic6\", \"Topic6\", \"Topic6\", \"Topic6\", \"Topic6\", \"Topic6\", \"Topic6\", \"Topic6\", \"Topic7\", \"Topic7\", \"Topic7\", \"Topic7\", \"Topic7\", \"Topic7\", \"Topic7\", \"Topic7\", \"Topic7\", \"Topic7\", \"Topic7\", \"Topic7\", \"Topic7\", \"Topic7\", \"Topic7\", \"Topic7\", \"Topic7\", \"Topic7\", \"Topic7\", \"Topic7\", \"Topic7\", \"Topic7\", \"Topic7\", \"Topic7\", \"Topic7\", \"Topic7\", \"Topic7\", \"Topic7\", \"Topic7\", \"Topic7\", \"Topic7\", \"Topic7\", \"Topic7\", \"Topic7\", \"Topic7\", \"Topic7\", \"Topic7\", \"Topic7\", \"Topic7\", \"Topic7\", \"Topic7\", \"Topic7\", \"Topic7\", \"Topic7\", \"Topic7\", \"Topic7\", \"Topic7\", \"Topic7\", \"Topic7\", \"Topic7\", \"Topic7\", \"Topic7\", \"Topic7\", \"Topic7\", \"Topic7\", \"Topic7\", \"Topic7\", \"Topic7\", \"Topic7\", \"Topic7\", \"Topic7\", \"Topic8\", \"Topic8\", \"Topic8\", \"Topic8\", \"Topic8\", \"Topic8\", \"Topic8\", \"Topic8\", \"Topic8\", \"Topic8\", \"Topic8\", \"Topic8\", \"Topic8\", \"Topic8\", \"Topic8\", \"Topic8\", \"Topic8\", \"Topic8\", \"Topic8\", \"Topic8\", \"Topic8\", \"Topic8\", \"Topic8\", \"Topic8\", \"Topic8\", \"Topic8\", \"Topic8\", \"Topic8\", \"Topic8\", \"Topic8\", \"Topic8\", \"Topic8\", \"Topic8\", \"Topic8\", \"Topic8\", \"Topic8\", \"Topic8\", \"Topic8\", \"Topic8\", \"Topic8\", \"Topic8\", \"Topic8\", \"Topic8\", \"Topic8\", \"Topic8\", \"Topic8\", \"Topic8\", \"Topic8\", \"Topic8\", \"Topic8\", \"Topic8\", \"Topic8\", \"Topic8\", \"Topic8\", \"Topic8\", \"Topic8\", \"Topic8\", \"Topic8\", \"Topic8\", \"Topic8\", \"Topic8\", \"Topic8\", \"Topic8\", \"Topic8\", \"Topic8\", \"Topic8\", \"Topic8\", \"Topic8\", \"Topic8\"], \"logprob\": [30.0, 29.0, 28.0, 27.0, 26.0, 25.0, 24.0, 23.0, 22.0, 21.0, 20.0, 19.0, 18.0, 17.0, 16.0, 15.0, 14.0, 13.0, 12.0, 11.0, 10.0, 9.0, 8.0, 7.0, 6.0, 5.0, 4.0, 3.0, 2.0, 1.0, -2.8715, -3.1239, -3.5201, -4.5513, -4.7968, -5.1206, -5.3233, -5.3728, -5.3833, -5.3873, -5.5479, -5.7802, -5.8148, -5.8243, -5.9093, -5.9793, -6.0377, -6.0519, -6.113, -6.1529, -6.3031, -6.368, -6.4687, -6.5586, -6.5873, -6.6, -6.6774, -6.6986, -6.6989, -6.7806, -4.4155, -5.2485, -3.3305, -3.482, -4.9246, -5.9067, -3.7952, -4.6729, -4.0955, -3.8917, -4.4053, -5.0695, -3.8525, -4.6362, -4.2104, -4.0166, -4.9411, -4.5238, -5.0895, -5.1699, -4.6518, -4.7668, -5.1387, -5.0628, -5.0501, -5.134, -4.412, -4.5202, -4.7658, -5.1044, -5.1451, -5.3586, -5.456, -5.6449, -5.6929, -5.7349, -5.7383, -5.8353, -5.8398, -5.8803, -5.9093, -5.932, -5.9435, -5.9947, -6.0038, -6.0357, -6.1821, -6.218, -6.2249, -6.3736, -6.4233, -6.47, -6.5307, -6.6188, -6.6458, -6.755, -4.7408, -4.3003, -3.7187, -3.9695, -4.2118, -4.3735, -5.464, -4.026, -4.1877, -4.6514, -4.6883, -5.3789, -5.2383, -5.2994, -4.8953, -4.9344, -4.3114, -4.3961, -4.8036, -4.1559, -4.7373, -4.7295, -4.9583, -4.4659, -4.4073, -4.6522, -5.0547, -4.8658, -4.6972, -4.8506, -4.8666, -4.9543, -4.9424, -3.8699, -3.9586, -4.2081, -5.2737, -5.6668, -3.0153, -5.81, -5.8665, -5.95, -6.0169, -6.0604, -6.1239, -6.1534, -4.3485, -6.2329, -6.264, -6.6353, -6.6802, -6.6906, -6.6937, -6.316, -6.7224, -6.7231, -6.8503, -6.8561, -6.9244, -7.0573, -7.1298, -7.149, -7.1471, -6.4655, -6.0523, -5.9745, -4.0658, -3.7959, -4.2244, -5.4396, -4.9398, -4.1488, -5.5291, -4.934, -4.8858, -5.7563, -4.9936, -4.6879, -4.3323, -5.3766, -4.3774, -5.4633, -5.4235, -4.8942, -4.3511, -4.1917, -4.0665, -4.1641, -4.5106, -4.5581, -4.6199, -4.8824, -5.2274, -4.9199, -5.155, -4.8697, -4.8984, -4.9453, -5.0089, -3.5368, -4.1058, -4.1574, -4.2969, -4.6511, -4.6544, -4.7639, -4.806, -4.8362, -4.9209, -5.2613, -5.503, -5.5424, -5.927, -6.0042, -6.081, -6.5859, -6.5892, -6.6801, -6.7029, -6.7997, -6.836, -6.8676, -6.873, -7.0992, -7.1471, -7.2049, -7.2046, -7.2123, -7.2294, -3.9198, -4.3582, -5.6325, -5.9193, -3.758, -5.2449, -5.1929, -5.4406, -5.355, -4.1441, -3.403, -5.3707, -5.0443, -3.6916, -4.2775, -4.217, -4.7578, -4.4305, -4.3916, -3.9775, -4.7718, -4.2174, -4.5502, -4.3688, -4.3927, -4.4419, -4.4865, -4.5477, -4.8264, -4.1312, -4.1541, -4.3031, -4.3376, -4.4694, -5.4368, -5.4933, -5.5339, -5.7743, -5.942, -5.9574, -6.079, -6.1412, -6.1564, -6.1789, -6.498, -6.6098, -6.6454, -6.7014, -6.7974, -6.8992, -6.9359, -6.938, -7.0009, -7.0046, -7.1317, -7.1519, -7.2117, -7.2868, -7.2892, -3.3259, -4.8372, -5.3147, -5.4934, -4.4528, -5.7603, -3.9479, -5.911, -5.16, -6.4531, -3.552, -4.7485, -5.2635, -4.9329, -5.062, -4.8489, -4.0426, -4.8691, -5.1971, -4.4868, -4.2598, -4.8667, -5.1487, -4.4624, -4.7262, -4.6853, -4.5157, -4.8383, -4.9998, -4.9463, -4.811, -4.9224, -4.903, -4.8795, -5.0136, -4.229, -4.7723, -4.9431, -5.1804, -5.1855, -5.6655, -5.7863, -5.9104, -6.0433, -6.1143, -6.2165, -6.2377, -6.2846, -6.2872, -6.2948, -6.3699, -6.3863, -6.3939, -6.4356, -6.4737, -6.4787, -6.5328, -6.5794, -6.6028, -6.6059, -6.6394, -6.6408, -6.6565, -6.6616, -6.6929, -5.2141, -4.7594, -4.6742, -5.9324, -4.8604, -4.66, -4.3984, -4.4751, -5.8314, -5.2363, -4.7014, -4.6839, -5.7408, -5.1255, -5.9142, -4.4607, -5.8798, -5.7697, -5.1838, -4.5642, -5.2185, -5.2159, -4.9073, -4.6724, -5.0336, -4.6902, -5.0638, -4.9745, -5.3928, -5.2687, -5.437, -5.4167, -3.9662, -4.0891, -4.2668, -4.9927, -5.0891, -5.3667, -5.5302, -5.6741, -5.8558, -5.9438, -6.0071, -6.0397, -6.1209, -6.1614, -6.2911, -6.5071, -6.5244, -6.5528, -6.596, -6.6016, -6.6507, -6.7314, -6.7659, -6.7838, -6.8959, -6.9156, -6.9167, -6.9409, -6.9626, -7.0305, -3.981, -6.0696, -4.7943, -4.0146, -5.3482, -4.1164, -3.6262, -3.4847, -3.5102, -4.9235, -4.8313, -5.9041, -3.7401, -3.8608, -3.9568, -4.0837, -4.3981, -4.4335, -5.6001, -4.8252, -5.4475, -5.0378, -5.1193, -4.8359, -5.4949, -4.72, -4.7329, -4.9353, -5.1656, -5.1611, -5.1811, -4.7691, -4.931, -5.127, -5.3699, -5.428, -5.8313, -5.91, -6.3975, -6.3998, -6.4027, -6.4969, -6.5192, -6.531, -6.551, -6.6053, -6.6512, -6.6838, -6.7205, -6.7933, -6.8348, -6.8483, -6.8717, -6.9299, -7.0255, -7.0276, -7.0674, -7.0832, -7.1029, -7.1066, -7.113, -5.8043, -4.7629, -4.6117, -5.6039, -3.7826, -5.3514, -5.7318, -5.5521, -5.1549, -3.9092, -6.1558, -5.5761, -5.2668, -3.7647, -3.6889, -4.2498, -4.5827, -4.7541, -4.1416, -4.0697, -5.3789, -5.0752, -5.9756, -5.5758, -4.5528, -4.8203, -4.9275, -5.0947, -5.2479, -4.6303, -4.7884, -4.9968, -4.839, -4.9642, -5.032, -5.1403, -5.1995, -5.1843, -5.202], \"loglift\": [30.0, 29.0, 28.0, 27.0, 26.0, 25.0, 24.0, 23.0, 22.0, 21.0, 20.0, 19.0, 18.0, 17.0, 16.0, 15.0, 14.0, 13.0, 12.0, 11.0, 10.0, 9.0, 8.0, 7.0, 6.0, 5.0, 4.0, 3.0, 2.0, 1.0, 2.4217, 2.4217, 2.4216, 2.4208, 2.4205, 2.4199, 2.4195, 2.4194, 2.4193, 2.4193, 2.4189, 2.4181, 2.4179, 2.4179, 2.4175, 2.4172, 2.4169, 2.4168, 2.4165, 2.4163, 2.4154, 2.4149, 2.4142, 2.4135, 2.4132, 2.4131, 2.4124, 2.4122, 2.4122, 2.4114, 2.2573, 2.2138, 1.8985, 1.8234, 2.0929, 2.2665, 1.6143, 1.7942, 1.5708, 1.4809, 1.6512, 1.8842, 1.2737, 1.5886, 1.276, 1.1443, 1.6902, 1.0361, 1.3828, 1.4715, 0.5649, 0.7286, 1.0139, 0.5431, 0.3741, 0.4852, 1.8425, 1.8424, 1.8422, 1.8419, 1.8419, 1.8416, 1.8414, 1.8411, 1.841, 1.8409, 1.8409, 1.8407, 1.8407, 1.8406, 1.8405, 1.8405, 1.8404, 1.8403, 1.8403, 1.8402, 1.8397, 1.8396, 1.8396, 1.839, 1.8388, 1.8386, 1.8384, 1.8379, 1.8378, 1.8372, 1.8363, 1.829, 1.7911, 1.7575, 1.6615, 1.6678, 1.7551, 1.5675, 1.5689, 1.5822, 1.5524, 1.6959, 1.6552, 1.6429, 1.4905, 1.494, 1.175, 1.2097, 1.3611, 0.9572, 1.1448, 1.1267, 1.2549, 0.8125, 0.7044, 0.8019, 1.3289, 0.9627, 0.4277, 0.6072, 0.5059, 0.665, 0.2185, 2.193, 2.1929, 2.1928, 2.1915, 2.1906, 2.1906, 2.1902, 2.1899, 2.1897, 2.1894, 2.1892, 2.189, 2.1888, 2.1887, 2.1885, 2.1883, 2.186, 2.1857, 2.1856, 2.1856, 2.1853, 2.1853, 2.1853, 2.1842, 2.1842, 2.1835, 2.1821, 2.1813, 2.1811, 2.181, 2.1726, 2.1472, 2.1176, 1.9649, 1.9238, 1.9436, 2.0472, 1.9812, 1.8114, 2.008, 1.8931, 1.8834, 2.0129, 1.8396, 1.7562, 1.5951, 1.877, 1.5047, 1.8926, 1.8603, 1.5675, 1.2774, 1.1777, 1.0249, 1.0219, 1.0911, 1.1142, 1.1365, 1.183, 1.588, 0.9563, 1.3351, 0.6151, 0.2279, 0.3331, 0.2412, 2.2599, 2.2596, 2.2596, 2.2595, 2.2591, 2.2591, 2.259, 2.259, 2.2589, 2.2588, 2.2582, 2.2576, 2.2575, 2.2562, 2.2559, 2.2555, 2.2524, 2.2524, 2.2517, 2.2515, 2.2506, 2.2502, 2.2499, 2.2498, 2.2472, 2.2466, 2.2458, 2.2458, 2.2457, 2.2454, 2.1865, 2.1216, 2.1487, 2.1541, 1.9412, 2.0591, 2.0407, 2.058, 2.0399, 1.8411, 1.5803, 1.956, 1.8767, 1.4201, 1.5786, 1.5221, 1.6982, 1.4717, 1.437, 1.1357, 1.5459, 1.0328, 1.3122, 1.116, 1.0315, 0.7747, 0.6995, 0.5436, 0.2985, 2.0568, 2.0567, 2.0567, 2.0566, 2.0565, 2.0553, 2.0552, 2.0551, 2.0546, 2.0541, 2.054, 2.0536, 2.0534, 2.0533, 2.0532, 2.0517, 2.051, 2.0508, 2.0505, 2.0498, 2.049, 2.0487, 2.0486, 2.0481, 2.048, 2.0468, 2.0466, 2.0459, 2.045, 2.045, 2.0067, 2.0134, 2.0012, 1.9947, 1.8966, 1.9733, 1.8461, 1.9734, 1.8773, 1.9951, 1.5728, 1.7483, 1.8227, 1.7585, 1.7552, 1.6633, 1.4131, 1.4609, 1.5768, 1.1416, 0.9012, 1.2914, 1.4168, 0.816, 1.0303, 0.9164, 0.7133, 1.029, 1.207, 1.0932, 0.8096, 0.5625, 0.4696, 0.3371, 0.1127, 1.7708, 1.7705, 1.7703, 1.7701, 1.7701, 1.7694, 1.7691, 1.7688, 1.7685, 1.7683, 1.768, 1.7679, 1.7678, 1.7678, 1.7677, 1.7675, 1.7674, 1.7674, 1.7672, 1.7671, 1.767, 1.7668, 1.7666, 1.7665, 1.7665, 1.7663, 1.7663, 1.7662, 1.7662, 1.766, 1.7265, 1.695, 1.6784, 1.7091, 1.612, 1.5895, 1.5039, 1.5103, 1.6759, 1.5885, 1.4457, 1.3246, 1.5918, 1.4152, 1.587, 0.9108, 1.5692, 1.5119, 1.1861, 0.8276, 1.109, 1.0506, 0.765, 0.5571, 0.8426, 0.466, 0.5752, 0.3708, 0.8355, 0.1217, 0.5803, 0.303, 2.2633, 2.2632, 2.2631, 2.2623, 2.2621, 2.2616, 2.2612, 2.2608, 2.2602, 2.2598, 2.2595, 2.2594, 2.259, 2.2588, 2.2581, 2.2568, 2.2567, 2.2565, 2.2561, 2.256, 2.2557, 2.255, 2.2547, 2.2546, 2.2534, 2.2532, 2.2532, 2.253, 2.2527, 2.252, 2.2165, 2.2012, 2.0961, 1.9817, 2.0985, 1.9009, 1.828, 1.7639, 1.7192, 1.9557, 1.9261, 2.1176, 1.6517, 1.4844, 1.4147, 1.3577, 1.4449, 1.4279, 1.8804, 1.2872, 1.7393, 1.3254, 1.2872, 0.7241, 1.7155, 0.3932, 0.3788, 0.4341, 0.9815, 0.8473, 0.2431, 2.0002, 2.0, 1.9998, 1.9994, 1.9993, 1.9983, 1.9981, 1.9962, 1.9962, 1.9962, 1.9957, 1.9955, 1.9955, 1.9954, 1.995, 1.9948, 1.9945, 1.9943, 1.9938, 1.9935, 1.9934, 1.9932, 1.9927, 1.9919, 1.9918, 1.9915, 1.9913, 1.9911, 1.9911, 1.991, 1.9397, 1.8668, 1.8455, 1.9059, 1.7351, 1.8429, 1.8749, 1.8474, 1.8, 1.5486, 1.8832, 1.7683, 1.7004, 1.3266, 1.2944, 1.3708, 1.4334, 1.4669, 1.2488, 1.1804, 1.6107, 1.4263, 1.7945, 1.5972, 0.9426, 1.047, 1.0526, 1.2042, 1.3163, 0.4959, 0.3678, 0.7024, 0.347, 0.5207, 0.4237, 0.7222, 0.9502, 0.4174, 0.5371]}, \"token.table\": {\"Topic\": [1, 2, 5, 8, 1, 4, 2, 5, 4, 8, 3, 8, 6, 5, 6, 8, 3, 1, 1, 2, 5, 8, 5, 5, 5, 7, 5, 7, 3, 4, 7, 8, 8, 2, 3, 4, 6, 7, 2, 3, 5, 6, 3, 4, 5, 6, 8, 3, 4, 5, 8, 2, 3, 8, 3, 4, 5, 6, 8, 2, 4, 5, 6, 5, 2, 1, 6, 2, 3, 7, 2, 4, 6, 7, 7, 8, 1, 2, 5, 6, 7, 6, 7, 1, 2, 3, 4, 5, 6, 7, 8, 3, 6, 7, 5, 2, 6, 2, 3, 2, 3, 5, 6, 8, 6, 7, 3, 6, 1, 2, 3, 4, 6, 8, 1, 1, 3, 2, 4, 1, 5, 4, 8, 4, 7, 1, 2, 4, 6, 7, 8, 4, 2, 2, 7, 2, 3, 8, 4, 6, 8, 8, 8, 7, 8, 8, 1, 4, 7, 1, 2, 3, 4, 5, 7, 8, 1, 1, 3, 4, 8, 5, 6, 5, 5, 6, 3, 8, 1, 2, 4, 6, 8, 6, 1, 2, 3, 6, 6, 7, 1, 2, 3, 5, 6, 7, 8, 8, 5, 6, 4, 5, 3, 6, 6, 4, 4, 2, 3, 4, 5, 6, 7, 2, 4, 7, 6, 6, 4, 2, 4, 7, 3, 3, 2, 3, 8, 1, 2, 3, 4, 5, 6, 7, 8, 1, 1, 2, 3, 7, 8, 4, 8, 1, 2, 3, 5, 8, 8, 2, 1, 3, 4, 5, 6, 8, 4, 3, 6, 8, 3, 6, 6, 7, 2, 3, 5, 6, 8, 6, 6, 2, 3, 7, 8, 1, 2, 5, 6, 7, 7, 4, 8, 5, 6, 6, 1, 2, 5, 7, 7, 5, 6, 7, 7, 2, 3, 4, 5, 2, 3, 6, 7, 1, 6, 3, 8, 1, 2, 3, 5, 7, 8, 2, 3, 4, 6, 7, 8, 3, 5, 8, 8, 6, 8, 2, 3, 5, 6, 8, 3, 6, 8, 1, 2, 3, 5, 5, 2, 3, 4, 5, 7, 8, 4, 7, 2, 4, 5, 6, 7, 8, 2, 1, 2, 3, 5, 8, 4, 5, 3, 8, 2, 5, 2, 5, 6, 8, 2, 3, 4, 5, 6, 7, 8, 6, 7, 4, 1, 2, 3, 4, 5, 8, 6, 1, 4, 5, 1, 6, 7, 2, 3, 6, 4, 7, 1, 2, 6, 3, 4, 5, 7, 8, 2, 4, 2, 1, 4, 3, 8, 3, 5, 1, 3, 6, 1, 2, 3, 5, 6, 7, 8, 1, 2, 5, 7, 3, 5, 6, 2, 6, 3, 4, 6, 8, 3, 8, 1, 6, 7, 1, 2, 5, 7, 8, 6, 3, 5, 6, 8, 8, 2, 4, 7, 8, 2, 8, 1, 2, 5, 8, 5, 3, 8, 3, 4, 8, 6, 7, 4, 8, 2, 3, 2, 4, 8, 5, 8, 4, 1, 2, 5, 8, 4, 3, 3, 4, 6, 2, 6, 4, 6, 7, 8, 3, 4, 5, 8, 8, 2, 4, 6, 7, 1, 2, 4, 6, 7, 3, 5, 6, 7, 2, 3, 4, 5, 6, 8, 5, 5, 6, 6, 1, 6, 7, 2, 5, 6, 7, 8, 1, 2, 3, 4, 5, 6, 7, 8, 6, 7, 2, 3, 6, 1, 1, 2, 3, 4, 5, 6, 7, 8, 7, 1, 2, 5, 8, 1, 2, 3, 5, 1, 1, 5, 6, 3, 6, 8, 2, 3, 4, 6, 7, 2, 3, 3, 3, 4, 4, 1, 8, 2, 3, 7, 1, 1, 3, 8, 5, 8, 2, 3, 5, 6, 8, 1, 5, 6, 4, 7, 7, 2, 2, 6, 7, 2, 3, 4, 6, 1, 6, 8, 4, 6, 3, 4, 1, 2, 3, 5, 6, 7, 8, 7, 2, 3, 7, 2, 3, 4, 7, 2, 3, 4, 7, 2, 3, 4, 5, 7, 8, 3, 5, 1, 2, 5, 6, 7, 7, 7, 4, 7, 7, 6, 7, 3, 1, 2, 4, 5, 6, 7, 2, 2, 6, 4, 4, 8, 2, 4, 5, 6, 7, 8, 1, 4, 5, 6, 7, 8, 2, 2, 2, 4, 7, 8, 3, 8, 2, 4, 7, 3, 6, 4, 6, 7, 5, 5, 2, 3, 6, 4, 5, 5, 5, 4, 5, 6, 1, 2, 3, 4, 7, 8, 4, 6, 4, 8, 3, 6, 8, 2, 3, 5, 4, 5, 5, 5, 1, 2, 3, 4, 5, 7, 1, 2, 3, 5, 8, 5, 1, 2, 5, 6, 7, 2, 8, 3, 1, 1, 5, 3, 2, 1, 6, 7, 8, 5, 6, 6, 6, 2, 3, 4, 2, 3, 5, 6, 8, 6, 7, 7, 1, 2, 3, 5, 7, 2, 5, 2, 3, 5, 6, 7, 7, 7, 2, 4, 6, 7, 8, 5, 5, 2, 3, 6, 6, 6, 7, 5, 5, 8, 6, 7, 1, 2, 4, 5, 6, 7, 1, 2, 3, 4, 5, 6, 7, 8, 1, 2, 8, 1, 1, 2, 4, 6, 7, 8, 2, 3, 1, 6, 6, 4, 4, 2, 7, 1, 6, 4, 1, 1, 2, 5, 2, 3, 5, 3, 6, 6, 7, 1, 2, 3, 4, 5, 8, 2, 3, 4, 6, 7, 8, 6, 7, 3, 8, 1, 2, 3, 5, 6, 7, 8, 1, 5, 3, 3, 6, 3, 2, 3, 5, 2, 3, 7, 2, 6, 2, 3, 4, 5, 6, 7, 4, 4, 1, 2, 2, 3, 4, 6, 7, 3, 4, 6, 5, 3, 4, 5, 6, 2, 1, 1, 2, 3, 4, 5, 8, 3, 5, 6, 8, 2, 3, 1, 2, 3, 4, 5, 6, 7, 8, 3, 6, 7, 8, 6, 6, 3, 6, 3, 4, 8, 5, 6, 7, 1, 7, 1, 2, 3, 6, 7, 1, 2, 3, 5, 8, 5, 6, 7, 1, 6, 7], \"Freq\": [0.46241049495301695, 0.08622921988764003, 0.20120151307116005, 0.24961089967474742, 0.1813093635035008, 0.8169586614334212, 0.14802951800991, 0.851676678961126, 0.7267605774355621, 0.2727116147367425, 0.6457658667954516, 0.35372215488450515, 0.9996979184263762, 0.3576861424656403, 0.2570999577115921, 0.385232566506168, 0.9908970200063715, 0.9962269605872611, 0.5925676783145563, 0.11639722252607354, 0.26079150425822917, 0.030201552056954687, 0.9952272721823383, 0.9946144599055965, 0.9956357011447543, 0.9946629636947968, 0.9992103215579502, 0.9937701780819381, 0.9967101124878927, 0.8035628107984804, 0.0016365841360457848, 0.19475351218944842, 0.9955345208237492, 0.41231677117689824, 0.09718895320598316, 0.3247485426317094, 0.01158413785687476, 0.1539315945727087, 0.9978410005581582, 0.5495837845384267, 0.25174483033695677, 0.1981160900715135, 0.34744374442780984, 0.05828088616208423, 0.35790441630305575, 0.23611230804126432, 0.9987567620426042, 0.0692564053131009, 0.29040469955152537, 0.07712645137140782, 0.5627082931689448, 0.9181380724354778, 0.0816203343729682, 0.9989288972211208, 0.07684014872200627, 0.3875235608520641, 0.16032593192807795, 0.09677705217420249, 0.27828594402023893, 0.7592355620553735, 0.14568943268537474, 0.09331741439978251, 0.0019044370285669903, 0.9897068956956268, 0.9960739580300749, 0.8480560729797113, 0.15130515839505862, 0.7051641273095953, 0.10606721831938934, 0.18799500074540043, 0.9969910238156476, 0.06848862518355084, 0.3891399158156298, 0.5422016160364441, 0.9860053345751144, 0.9916213958159606, 0.00044109997286172984, 0.06440059603781256, 0.058004646431317475, 0.2968602817359442, 0.5800464643131747, 0.24548774434566045, 0.7540319884350267, 0.09438844397979619, 0.06452543345511491, 0.06612523759036569, 0.08638942330354228, 0.07572406240187039, 0.18184440337350566, 0.3764872398290176, 0.054926608643610215, 0.9951426024829133, 0.3040643040778036, 0.6959047469723256, 0.9871277952066291, 0.8181400110094431, 0.18099360482720117, 0.9932789567914853, 0.9834685818752685, 0.09728690764100877, 0.13538117870525918, 0.42724190162828546, 0.16234020130457485, 0.17757790973027504, 0.13315281620508476, 0.863693942951901, 0.9950563542893262, 0.004078099812661173, 0.059021995974945646, 0.03765196294953429, 0.3643081820522507, 0.08140964962061469, 0.19538315908947523, 0.26203730971635353, 0.9893552475079047, 0.9968876937949764, 0.9930055105586167, 0.9977425495405766, 0.9885881812221068, 0.854284941380821, 0.14238082356347015, 0.9924911021375858, 0.9969885780105692, 0.9911911441453298, 0.9963052889755728, 0.11018569827753508, 0.1736622418504629, 0.05629051977221901, 0.39223713245535585, 0.24672015049100246, 0.020360400768674958, 0.9995100095649111, 0.9975583749869125, 0.42049265007341385, 0.5771781242452563, 0.9986709661344388, 0.9799336776887368, 0.013332430988962406, 0.9994064018077111, 0.18082033991165167, 0.8174070160389733, 0.9943296417850838, 0.9886984085385188, 0.9871105931462947, 0.9970729870104544, 0.9956275911265043, 0.18084497548679743, 0.8181918308431806, 0.9975617120848896, 0.12889383108542438, 0.1733769411897496, 0.04287528684754241, 0.29262383273447695, 0.17471679390373532, 0.13264541868458432, 0.05493396127341371, 0.9960301135124275, 0.5337707492119675, 0.11253286450622677, 0.35356609456348276, 0.9885110096040781, 0.9507047320462142, 0.0491490872276978, 0.9995901795112625, 0.9392442789170743, 0.05909851642624288, 0.9941743951670194, 0.005813885351853915, 0.9991106996605397, 0.9932460815326065, 0.16173849489762468, 0.09779536900786608, 0.7397342014697562, 0.9971629657155024, 0.021821454893454717, 0.20631193717448096, 0.25524489663253097, 0.5157798429362024, 0.7709316846147702, 0.22664361329431998, 0.18387546628752946, 0.034818359030971927, 0.07740610396141694, 0.20401831861949668, 0.11826731869197904, 0.03453060399765811, 0.34703257017646405, 0.9987296219190277, 0.9573990166178419, 0.04240228744927505, 0.19004956600814168, 0.8094560086918199, 0.9854245937748388, 0.9951977842078773, 0.998851072507702, 0.9905506589613755, 0.9877701027750418, 0.2139463819413634, 0.09508728086282818, 0.4546900884895238, 0.170292675727065, 0.003889934217115698, 0.06223894747385117, 0.8292391362186896, 0.08618496640475146, 0.08385564298840682, 0.9954941611603604, 0.9964025384109855, 0.9881235740223083, 0.10683794708628898, 0.20948617075742937, 0.6808300549616455, 0.9929332200769604, 0.9866869061995928, 0.9963652687441231, 0.8642228377078365, 0.1349030771056135, 0.08691105141357718, 0.1184778012194519, 0.08014674788374687, 0.054524386028329076, 0.13364623943785922, 0.271187077877742, 0.06005881618909932, 0.1953448867857053, 0.9858943297158405, 0.35389869341034413, 0.175038446632762, 0.08407960318604289, 0.016815920637208576, 0.3699502540185887, 0.18467286948990208, 0.8142394700236592, 0.27864560326328486, 0.19709079255207954, 0.11821328623290873, 0.3146862393099034, 0.09123429582086859, 0.9879026934743532, 0.9973463851473032, 0.0041331579929119655, 0.0960959233352032, 0.06303065939190748, 0.6189404094385669, 0.0030998684946839743, 0.21389092613319424, 0.9836630175834724, 0.13551338272620894, 0.008281373388823881, 0.8559928675538866, 0.9544128747953861, 0.0429915709367291, 0.8179871318643704, 0.1806472822231488, 0.06287847210071687, 0.739746730596669, 0.14609997929284213, 0.04993290431527515, 0.9935211119385955, 0.9972837056601713, 0.9979695362745358, 0.9493730417921358, 0.05021284230880915, 0.9892201218823451, 0.9913007302697371, 0.9980717185858662, 0.26874672200074146, 0.04354692254641644, 0.4864813347328237, 0.20093794260703587, 0.9964174421470777, 0.08843673196339111, 0.9102512411841719, 0.9191850957710413, 0.07842876243780215, 0.9951336681933678, 0.31795716626869386, 0.5127237533193826, 0.08184188943418398, 0.08725999361275365, 0.9908308304076889, 0.7338797579050731, 0.03289535734473113, 0.23183394700096227, 0.9965940557466965, 0.2427535056750421, 0.0003973052466039969, 0.1406460572978149, 0.6160217848594972, 0.2665478835164394, 0.682399220686417, 0.05037846595671535, 0.9903899160144317, 0.04272862652064934, 0.9559004161619553, 0.9926543541575764, 0.9958254117471601, 0.446006421871207, 0.2305290741820981, 0.13467334230569306, 0.07605082859615607, 0.00026406537706998636, 0.11249185063181419, 0.08628590600188805, 0.02313196628986786, 0.4780606366572691, 0.014319788655632484, 0.16706420098237898, 0.23131966289867859, 0.07238225573466853, 0.6745071743186694, 0.252940190369501, 0.9903647073986878, 0.05725096313509749, 0.9405515372194587, 0.06457313660232561, 0.05902897840919665, 0.2873178451850953, 0.05674608974143766, 0.5322391865403808, 0.741079008052423, 0.1863595740837711, 0.07192825666391164, 0.3865098767734349, 0.268837080566066, 0.05793122274824317, 0.2860354123194507, 0.9894395965122609, 0.1133226106368591, 0.17193775406971726, 0.055823946126531576, 0.465013471234008, 0.061964580200450044, 0.13230275231987984, 0.9959540209787158, 0.997355249520754, 0.3116403952143298, 0.060272280333805904, 0.11353615597763439, 0.028033618759909725, 0.09858489263901586, 0.387331165866086, 0.9978260819024903, 0.42704693759732715, 0.16180675333423908, 0.08056201220860848, 0.22052144019814016, 0.11026072009907008, 0.2075776769566053, 0.7907721026918297, 0.9962047317342337, 0.9949591776434071, 0.07824207745065828, 0.920018910712913, 0.29072628036349246, 0.0349204111780744, 0.0382461646236053, 0.6360503464577838, 0.10065645119166387, 0.11726642663583282, 0.12656801288456743, 0.12656801288456743, 0.30230155308387496, 0.047172330261439833, 0.17938773479702472, 0.4075690626016529, 0.5918340027817105, 0.9936092568633593, 0.24483348650012346, 0.2026399604819616, 0.1959778247948834, 0.0410831700703155, 0.051631551574855966, 0.26426471558743486, 0.9958005407944243, 0.9996530662138483, 0.05330444582856309, 0.9452655060265188, 0.03287666576630358, 0.7702533122391124, 0.19679032794401716, 0.598028019019586, 0.35112288368167505, 0.0503602542332283, 0.9291337056989469, 0.07049331594863659, 0.9865516093026743, 0.059057506121177515, 0.9399986390954088, 0.20642790265824623, 0.31832606230609556, 0.22436577557889384, 0.023347707611001644, 0.22749778513646723, 0.9985563353523131, 0.9975037631019799, 0.9977421490913383, 0.994892549331912, 0.9915028916999373, 0.9958473431578748, 0.9950337090898768, 0.9984814472523363, 0.9923741958592786, 0.9955393505675765, 0.9971610081092498, 0.0025849928920524947, 0.004958294832467688, 0.03768304072675443, 0.17701112551909648, 0.38129287261676525, 0.2256024148772798, 0.04710380090844304, 0.12643651822792606, 0.8124500232703686, 0.06581873606240961, 0.12135329461506772, 0.9854369833662365, 0.733352820687848, 0.1470819822697928, 0.11828271301416902, 0.9160446995739477, 0.08225049239132277, 0.09552012616601788, 0.031002146211777732, 0.36867417116708656, 0.5044132978240593, 0.831208533888912, 0.16845826286815282, 0.9973654530163386, 0.9978415009180702, 0.9980914692191806, 0.43443408085701624, 0.2655537994249618, 0.04594975855218441, 0.049530259218588384, 0.20408853798502685, 0.9986376443226759, 0.33218369221996624, 0.31938277922497715, 0.1430502027190028, 0.20513463074469976, 0.9958875987110085, 0.19701153246473552, 0.5699799298025554, 0.03158200138747668, 0.2007712945346732, 0.2333376677625604, 0.7665127673662924, 0.11410513586329205, 0.02564160356478473, 0.1820553853099716, 0.6769383341103169, 0.9908707772426221, 0.1252406322193003, 0.8740006977018313, 0.20945709558145828, 0.12321005622438722, 0.6684145550173006, 0.9263789710325356, 0.07281909253659316, 0.5065772879902876, 0.49330075593608336, 0.9952742203457471, 0.9967427324832345, 0.10777175343747356, 0.7382365110466939, 0.15267665070308753, 0.9950021765205154, 0.9985313697640265, 0.9934042621821337, 0.583838837082359, 0.022265040397208606, 0.1731725364227336, 0.21893956390588462, 0.9850218252260707, 0.9964220035095985, 0.9992852734112098, 0.984942916783259, 0.9977991338371954, 0.9938646532002703, 0.9975017239659842, 0.9913287323798912, 0.8329008052771809, 0.16636269348225677, 0.9900713080921201, 0.1418524843132349, 0.2929366382405057, 0.12474012112624148, 0.4401930267180543, 0.9990539225190477, 0.10244950055050313, 0.046775950623554774, 0.4230172925956258, 0.42784741793175374, 0.05684487569868242, 0.08879418539794189, 0.25020043829420074, 0.17053462709604725, 0.43359777448994985, 0.11914282373084598, 0.526913333119516, 0.08809856684323118, 0.2651347344996291, 0.00034344465477130384, 0.3400102082235908, 0.0024041125833991267, 0.22976447404200226, 0.3657685573314386, 0.062163482513606, 0.9981490721111558, 0.7391831544739083, 0.2600629784353458, 0.9966070146643224, 0.07522325390648556, 0.2104218048465204, 0.713604381653417, 0.18445249564589286, 0.06865156087944045, 0.1922243704624333, 0.08367718552475195, 0.4712346763762347, 0.10304437749855391, 0.1373925033314052, 0.046342709457021604, 0.04198104268459604, 0.038164584258723676, 0.1504775036486819, 0.40399938479591774, 0.07851000190366013, 0.15325829199859875, 0.8452427013256052, 0.49728502405988084, 0.5023680055664554, 0.9947647544618703, 0.994670832273852, 0.07839197885991657, 0.1955994035630928, 0.3620237988126244, 0.002536957244657494, 0.0030443486935889928, 0.12177394774355971, 0.16033569786235363, 0.07610871733972482, 0.9976397142238262, 0.3901328811191848, 0.2626334855283749, 0.20435531868147777, 0.14276878428432008, 0.5496567329053225, 0.21962474652450764, 0.1480028086004808, 0.08256748325460905, 0.9982030433046232, 0.9938932851274229, 0.4422226889600188, 0.5567452573958428, 0.99276223518747, 0.9989647272969001, 0.9978733256225796, 0.7604158235435651, 0.05978699349728275, 0.04521391383232008, 0.0011210061280740517, 0.13339972924081214, 0.9930181715351466, 0.0059411343596119884, 0.9991000531830547, 0.7158172513630253, 0.2821971856335004, 0.99833546484621, 0.9926523834184038, 0.994172482129179, 0.7705353708914977, 0.03973073006159285, 0.1896239389303295, 0.9931594118583112, 0.06950802806220222, 0.9267737074960296, 0.9970959531936315, 0.9946481642259303, 0.9923298212012027, 0.005587976599034851, 0.40003338358973023, 0.4003620880955558, 0.0864492850321274, 0.10781507791079008, 0.9961368654577941, 0.8351351159443201, 0.16406841247215306, 0.8941018940832246, 0.10185970945251926, 0.9902632080161629, 0.9973168295922301, 0.9983663300382322, 0.9946397182994937, 0.9870045365445274, 0.488682984258107, 0.0024764340418485156, 0.5056052835440719, 0.002889173048823268, 0.9946090274760856, 0.1098557523546123, 0.8898315940723596, 0.8018434354122389, 0.19613436549651886, 0.0985350616129967, 0.8981849847030853, 0.13955873043128478, 0.10520581217127621, 0.11522541333044538, 0.07085289391126766, 0.1667547907204582, 0.3764507292659271, 0.025764688695006418, 0.998025127305333, 0.8628079753313608, 0.1354245527623657, 0.9888133917321401, 0.4147703524705982, 0.0879329208045121, 0.4388615636499165, 0.05822042701668609, 0.555679498958492, 0.09202335651541906, 0.30674452171806355, 0.04601167825770953, 0.6175620104612803, 0.11800547970597715, 0.1522832619062848, 0.02247723422970993, 0.0033715851344564896, 0.08653735178438324, 0.9851974058592761, 0.9941721945606977, 0.0609234124477473, 0.10588534045346486, 0.12162201525546601, 0.10498610189335052, 0.6065364087971299, 0.9993956397397942, 0.9991004401909009, 0.9975206161402778, 0.9971270428925378, 0.9915981869572638, 0.2640685777846926, 0.7347995207921882, 0.9944223808592867, 0.0493407399007959, 0.2494448517206904, 0.12061069753527887, 0.06715822930941664, 0.12266656169781204, 0.3912994789354786, 0.9984476461746874, 0.998831080488017, 0.9933040468279114, 0.998567079849203, 0.9993453284124564, 0.9952236912056779, 0.10835103845114448, 0.10590703006502844, 0.08839163663119681, 0.12138574984376337, 0.44073617896292605, 0.1348277959674016, 0.04815610752401591, 0.1893033192323384, 0.1721442464364247, 0.16273443232253654, 0.07804610529754302, 0.34982367764572475, 0.9988651743842998, 0.9987684989348208, 0.9954409828545786, 0.6574445484519188, 0.06010921585846115, 0.28176194933653664, 0.14101490221770932, 0.8576796792419581, 0.9993212336355655, 0.9992866569311432, 0.9977512155759967, 0.9984515518178323, 0.9942886592239142, 0.11727836201851725, 0.6397438518305183, 0.2427277574563574, 0.9974037459353574, 0.9962097322144063, 0.005761539317543475, 0.7637640557818568, 0.23046157270173898, 0.9987875026107923, 0.996156113398241, 0.999183819162423, 0.9996635606353644, 0.08753601361852638, 0.7421531589396801, 0.17031463519256762, 0.08352105613184382, 0.3203601073226122, 0.01176352903265406, 0.431721515498404, 0.15174952452123738, 0.000980294086054505, 0.8702153242371135, 0.1286070434934495, 0.9957272239267578, 0.9923162252465987, 0.5461325774091651, 0.1432655479199585, 0.3102291563981056, 0.009337832266960265, 0.7956816021162458, 0.19462008303769818, 0.9939748368031014, 0.997152138327204, 0.9992024136255078, 0.9978114704233064, 0.08750517979360796, 0.19158331030570228, 0.024527967063359805, 0.08750517979360796, 0.5508848818824864, 0.05833678652907197, 0.10364289652787777, 0.13463890296612158, 0.07942726649799979, 0.1152663989422192, 0.5666457426991448, 0.9972209419423209, 0.1526453385848203, 0.5308844196676276, 0.18703070959234822, 0.0028922274679229107, 0.1266152913735141, 0.9993876343369394, 0.9921872708328753, 0.9968324681311481, 0.9984448091891588, 0.9966059851789755, 0.9907013663339393, 0.9961730096134548, 0.9972962032060387, 0.9960924238161165, 0.8318824742571963, 0.091956160393469, 0.07484803752956778, 0.9372435649069839, 0.05513197440629317, 0.9965283714430175, 0.9979746553173635, 0.8394321972027761, 0.0715255836669821, 0.0889102741415958, 0.0007562831236304155, 0.5346921684067037, 0.2140281239874076, 0.13310582975895313, 0.11646760103908399, 0.7221871955889851, 0.27716970350586434, 0.9877727955604506, 0.0035047679611382677, 0.7030564530043365, 0.1493031151444902, 0.1191621106787011, 0.02383242213574022, 0.9985254781785521, 0.9969996627237184, 0.7475930602340354, 0.15339906264331787, 0.0842785363929691, 0.013945369331210716, 0.0006063204057048137, 0.9992110901747145, 0.9972112269078239, 0.08741503248669322, 0.14338046405041183, 0.24639647967212394, 0.4586193772389684, 0.06388974045769645, 0.9967541964849255, 0.9933787668841444, 0.13419537270567639, 0.8359253424791092, 0.03075310624505084, 0.9972492197367383, 0.14986230235674258, 0.8485446579388533, 0.9917714796771463, 0.1447418493995266, 0.8542915676515538, 0.05540032050576202, 0.9371887552224741, 0.25015121197629825, 0.2090220556513609, 0.06967401855045363, 0.1939822895325405, 0.0626145364946808, 0.2145468676950092, 0.15611826438168394, 0.19291601428475866, 0.052257159625668265, 0.22644769171122914, 0.1789807717179138, 0.035709059077539976, 0.08970812402406385, 0.06793430751336874, 0.17550525483734852, 0.0310790555441138, 0.7916018265059573, 0.9986837595729051, 0.16065820823880797, 0.025062680485254042, 0.1310970979228673, 0.05912222063188133, 0.17286823206495736, 0.4504856159016175, 0.9987771384198002, 0.9955726688147422, 0.16575683697345509, 0.8336773756266395, 0.9982091711373143, 0.9993353763922994, 0.9978789420546238, 0.35316804600186924, 0.6466923875968551, 0.9960979887894499, 0.9935101040965338, 0.9865146439634922, 0.998429618012691, 0.48113776669489494, 0.2508725785373754, 0.2670001014433495, 0.11952143848955188, 0.7017772535166349, 0.1776373672963982, 0.08820976873856488, 0.9100666384490962, 0.8365348754430514, 0.1626093710364463, 0.9960138110592683, 0.061946907756140174, 0.04756637559846478, 0.1587389511251092, 0.5251659724504919, 0.2065818754189139, 0.4282874857353138, 0.018336467279187744, 0.4891907520554731, 0.05762889716316148, 0.005238990651196498, 0.9931962211043052, 0.9939213034925864, 0.9937955201554787, 0.11644442733579106, 0.8816506641138466, 0.9994108015670807, 0.0298962232706818, 0.2901196877957713, 0.08842544911046729, 0.39496700602675394, 0.16042902910041923, 0.03579125321137962, 0.9955868365674474, 0.9888409863375512, 0.9997735271070002, 0.9917587457047315, 0.9979337387113743, 0.9948472978758327, 0.10851572285822515, 0.7295595521391445, 0.16026937529830176, 0.8339113391429942, 0.1364658535858374, 0.029392645387718828, 0.998120812521177, 0.9988734571420075, 0.3569198623207835, 0.15564578032418333, 0.13155774289305971, 0.28905644917348333, 0.05720908889891857, 0.009959477014791492, 0.9981756835621127, 0.9981896488268691, 0.9949100990840237, 0.9986114356384632, 0.017186999873479755, 0.0752954280171494, 0.08675342793280258, 0.7005748519856511, 0.1203089991143583, 0.809266479524221, 0.1460510510383949, 0.04429417121656239, 0.9841566292960685, 0.9896180420180837, 0.6811786910111484, 0.2035156018838229, 0.11372930693507749, 0.9995547243026113, 0.9997814247733229, 0.06842359153894302, 0.14466098828449372, 0.30980681724576975, 0.2099168209558931, 0.07560384497204198, 0.19133263559963695, 0.42406205779958606, 0.3594801297310252, 0.21008579010254722, 0.006224764151186585, 0.9860881431201057, 0.013560067974698923, 0.14428027146160485, 0.3077761998447327, 0.017587211419699014, 0.04820198685398988, 0.13581235485212015, 0.08500485519521189, 0.08565623339594149, 0.17587211419699011, 0.24015466311593975, 0.11413290920361494, 0.05944422354354944, 0.5861200441393976, 0.9950731887254752, 0.9987224605858214, 0.08815194339191819, 0.9113554762979851, 0.3108166842677886, 0.1796128552474551, 0.5094473712473272, 0.07491440821587364, 0.8531069343766835, 0.07185667726828697, 0.04587212568250948, 0.954024082232444, 0.141515655771077, 0.06427404286017044, 0.7791818178311889, 0.015222799624777208, 0.9941583251463221, 0.31728371143170564, 0.17763909361035307, 0.14004246573537352, 0.14302632509053062, 0.2219991360236887, 0.12319495531966626, 0.7655377749864174, 0.11109159128826046, 0.7197951436490394, 0.27948089826666, 0.992043743993099], \"Term\": [\"absolutely\", \"absolutely\", \"absolutely\", \"absolutely\", \"accessible\", \"accessible\", \"accommodate\", \"accommodate\", \"accommodation\", \"accommodation\", \"advice\", \"advice\", \"air\", \"airbnb\", \"airbnb\", \"airbnb\", \"alessandros\", \"alice\", \"amazing\", \"amazing\", \"amazing\", \"amazing\", \"ample\", \"andreas\", \"annalisa\", \"annoying\", \"answer\", \"antonella\", \"antonio\", \"appartment\", \"appartment\", \"appartment\", \"appreciable\", \"area\", \"area\", \"area\", \"area\", \"area\", \"arno\", \"arrival\", \"arrival\", \"arrival\", \"arrive\", \"arrive\", \"arrive\", \"arrive\", \"attention\", \"attentive\", \"attentive\", \"attentive\", \"attentive\", \"attraction\", \"attraction\", \"availability\", \"available\", \"available\", \"available\", \"available\", \"available\", \"away\", \"away\", \"away\", \"away\", \"azadeh\", \"bakery\", \"balcony\", \"balcony\", \"bar\", \"bar\", \"bar\", \"barbara\", \"bathroom\", \"bathroom\", \"bathroom\", \"beam\", \"beauty\", \"bed\", \"bed\", \"bed\", \"bed\", \"bed\", \"bedroom\", \"bedroom\", \"big\", \"big\", \"big\", \"big\", \"big\", \"big\", \"big\", \"big\", \"biscuit\", \"bit\", \"bit\", \"bite\", \"block\", \"block\", \"boboli\", \"boiler\", \"book\", \"book\", \"book\", \"book\", \"book\", \"bother\", \"bother\", \"bottle\", \"bottle\", \"breakfast\", \"breakfast\", \"breakfast\", \"breakfast\", \"breakfast\", \"breakfast\", \"breathtake\", \"breathtaking\", \"breditz\", \"bridge\", \"bril\", \"brilliant\", \"brilliant\", \"brje\", \"brla\", \"brlappartement\", \"brown\", \"building\", \"building\", \"building\", \"building\", \"building\", \"building\", \"bus\", \"bustle\", \"busy\", \"busy\", \"cafe\", \"camilla\", \"camilla\", \"car\", \"care\", \"care\", \"caring\", \"carla\", \"carmine\", \"casa\", \"cat\", \"cathedral\", \"cathedral\", \"ceiling\", \"central\", \"central\", \"central\", \"central\", \"central\", \"central\", \"central\", \"centrale\", \"centre\", \"centre\", \"centre\", \"characteristic\", \"check\", \"check\", \"checkin\", \"checkout\", \"checkout\", \"chianti\", \"chianti\", \"chiara\", \"claudio\", \"cleanliness\", \"cleanliness\", \"cleanliness\", \"clothe\", \"coffee\", \"coffee\", \"coffee\", \"coffee\", \"cold\", \"cold\", \"come\", \"come\", \"come\", \"come\", \"come\", \"come\", \"come\", \"comfort\", \"communicate\", \"communicate\", \"communication\", \"communication\", \"complimentary\", \"conditioner\", \"conditioning\", \"conform\", \"connected\", \"convenient\", \"convenient\", \"convenient\", \"convenient\", \"convenient\", \"convenient\", \"corner\", \"corner\", \"corner\", \"correct\", \"cost\", \"countryside\", \"courtyard\", \"courtyard\", \"courtyard\", \"cream\", \"cristiana\", \"crowd\", \"daniele\", \"daniele\", \"day\", \"day\", \"day\", \"day\", \"day\", \"day\", \"day\", \"day\", \"deck\", \"decorate\", \"decorate\", \"decorate\", \"decorate\", \"decorate\", \"decoration\", \"decoration\", \"definitely\", \"definitely\", \"definitely\", \"definitely\", \"definitely\", \"delighted\", \"della\", \"describe\", \"describe\", \"describe\", \"describe\", \"describe\", \"describe\", \"deserve\", \"detail\", \"detail\", \"detail\", \"detailed\", \"detailed\", \"difficult\", \"difficult\", \"direction\", \"direction\", \"direction\", \"direction\", \"discreet\", \"dish\", \"dishwasher\", \"distance\", \"distance\", \"disturb\", \"dog\", \"dome\", \"door\", \"door\", \"door\", \"door\", \"double\", \"doubt\", \"doubt\", \"drop\", \"drop\", \"dryer\", \"duomo\", \"duomo\", \"duomo\", \"duomo\", \"ear\", \"early\", \"early\", \"early\", \"earplug\", \"easy\", \"easy\", \"easy\", \"easy\", \"eat\", \"eat\", \"eat\", \"edoardo\", \"elevator\", \"elevator\", \"elisa\", \"elisabetta\", \"enjoy\", \"enjoy\", \"enjoy\", \"enjoy\", \"enjoy\", \"enjoy\", \"equip\", \"equip\", \"equip\", \"equip\", \"equip\", \"equip\", \"exactly\", \"exactly\", \"exactly\", \"exceed\", \"expectation\", \"expectation\", \"experience\", \"experience\", \"experience\", \"experience\", \"experience\", \"explain\", \"explain\", \"explain\", \"explore\", \"explore\", \"explore\", \"explore\", \"extreme\", \"extremely\", \"extremely\", \"extremely\", \"extremely\", \"extremely\", \"extremely\", \"fabio\", \"face\", \"family\", \"family\", \"family\", \"family\", \"family\", \"family\", \"famous\", \"fantastic\", \"fantastic\", \"fantastic\", \"fantastic\", \"fantastic\", \"fast\", \"fast\", \"father\", \"federica\", \"federico\", \"federico\", \"feel\", \"feel\", \"feel\", \"feel\", \"find\", \"find\", \"find\", \"find\", \"find\", \"find\", \"find\", \"fine\", \"fine\", \"fiore\", \"firenze\", \"firenze\", \"firenze\", \"firenze\", \"firenze\", \"firenze\", \"fix\", \"flat\", \"flexible\", \"flexible\", \"floor\", \"floor\", \"floor\", \"food\", \"food\", \"food\", \"foot\", \"foot\", \"francescos\", \"fridge\", \"fridge\", \"friendly\", \"friendly\", \"friendly\", \"friendly\", \"friendly\", \"gallery\", \"garage\", \"gelato\", \"gian\", \"giancarlo\", \"giorgio\", \"giovanna\", \"giulia\", \"giulio\", \"giuseppe\", \"give\", \"give\", \"go\", \"go\", \"go\", \"go\", \"go\", \"go\", \"go\", \"gorgeous\", \"gorgeous\", \"gorgeous\", \"green\", \"greet\", \"greet\", \"greet\", \"grocery\", \"grocery\", \"guest\", \"guest\", \"guest\", \"guest\", \"guide\", \"guide\", \"guido\", \"hair\", \"hear\", \"heart\", \"heart\", \"heart\", \"heart\", \"heart\", \"heat\", \"help\", \"help\", \"help\", \"help\", \"hesitation\", \"historic\", \"historic\", \"historic\", \"historic\", \"home\", \"home\", \"hope\", \"hope\", \"hope\", \"hope\", \"hopefully\", \"hospitality\", \"hospitality\", \"hostess\", \"hostess\", \"hostess\", \"hot\", \"hot\", \"house\", \"house\", \"hustle\", \"ice\", \"ideally\", \"ideally\", \"ideally\", \"ilaria\", \"impeccable\", \"importantly\", \"incredible\", \"incredible\", \"incredible\", \"incredible\", \"independent\", \"info\", \"information\", \"internal\", \"internet\", \"irene\", \"iron\", \"isabella\", \"issue\", \"issue\", \"jacopo\", \"kind\", \"kind\", \"kind\", \"kind\", \"kindness\", \"kitchen\", \"kitchen\", \"kitchen\", \"kitchen\", \"large\", \"large\", \"large\", \"large\", \"large\", \"late\", \"late\", \"late\", \"late\", \"leave\", \"leave\", \"leave\", \"leave\", \"leave\", \"leave\", \"leonardo\", \"let\", \"let\", \"lift\", \"light\", \"light\", \"light\", \"like\", \"like\", \"like\", \"like\", \"like\", \"little\", \"little\", \"little\", \"little\", \"little\", \"little\", \"little\", \"little\", \"living\", \"living\", \"local\", \"local\", \"lock\", \"lorenzos\", \"lot\", \"lot\", \"lot\", \"lot\", \"lot\", \"lot\", \"lot\", \"lot\", \"loud\", \"love\", \"love\", \"love\", \"love\", \"lovely\", \"lovely\", \"lovely\", \"lovely\", \"luca\", \"lucas\", \"luggage\", \"luggage\", \"luigi\", \"machine\", \"magnificent\", \"main\", \"main\", \"main\", \"main\", \"main\", \"major\", \"major\", \"map\", \"marco\", \"marco\", \"maria\", \"marina\", \"mario\", \"market\", \"market\", \"market\", \"martina\", \"massimo\", \"massimo\", \"maurizio\", \"max\", \"maximum\", \"meet\", \"meet\", \"meet\", \"meet\", \"meet\", \"mercato\", \"message\", \"message\", \"meter\", \"meter\", \"mezzanine\", \"michelangelo\", \"michele\", \"microwave\", \"midnight\", \"min\", \"min\", \"min\", \"min\", \"mirko\", \"moment\", \"moment\", \"money\", \"money\", \"monument\", \"monument\", \"morning\", \"morning\", \"morning\", \"morning\", \"morning\", \"morning\", \"morning\", \"mosquito\", \"museum\", \"museum\", \"natural\", \"near\", \"near\", \"near\", \"near\", \"nearby\", \"nearby\", \"nearby\", \"nearby\", \"neighborhood\", \"neighborhood\", \"neighborhood\", \"neighborhood\", \"neighborhood\", \"neighborhood\", \"nest\", \"nicoletta\", \"night\", \"night\", \"night\", \"night\", \"night\", \"noise\", \"noisy\", \"novella\", \"oil\", \"olive\", \"open\", \"open\", \"organized\", \"outside\", \"outside\", \"outside\", \"outside\", \"outside\", \"outside\", \"palace\", \"palazzo\", \"paper\", \"park\", \"parking\", \"patrizia\", \"people\", \"people\", \"people\", \"people\", \"people\", \"people\", \"photo\", \"photo\", \"photo\", \"photo\", \"photo\", \"photo\", \"piazza\", \"pitti\", \"pizza\", \"pleasant\", \"pleasant\", \"pleasant\", \"pleasure\", \"pleasure\", \"ponte\", \"position\", \"possibility\", \"precise\", \"pressure\", \"problem\", \"problem\", \"problem\", \"process\", \"prompt\", \"provide\", \"provide\", \"provide\", \"public\", \"query\", \"question\", \"quick\", \"quickly\", \"quickly\", \"quickly\", \"quiet\", \"quiet\", \"quiet\", \"quiet\", \"quiet\", \"quiet\", \"reach\", \"reach\", \"reachable\", \"reality\", \"receive\", \"receive\", \"receive\", \"recommendation\", \"recommendation\", \"recommendation\", \"repeat\", \"reply\", \"respond\", \"response\", \"responsive\", \"responsive\", \"responsive\", \"responsive\", \"responsive\", \"responsive\", \"return\", \"return\", \"return\", \"return\", \"return\", \"riccardo\", \"right\", \"right\", \"right\", \"right\", \"right\", \"river\", \"roberta\", \"roberto\", \"roof\", \"rooftop\", \"samuel\", \"sandra\", \"santo\", \"sara\", \"say\", \"say\", \"say\", \"self\", \"self\", \"shampoo\", \"sheet\", \"shop\", \"shop\", \"shop\", \"show\", \"show\", \"show\", \"show\", \"show\", \"shower\", \"shower\", \"shutter\", \"sight\", \"sight\", \"sight\", \"sight\", \"sight\", \"signoria\", \"silvia\", \"site\", \"site\", \"site\", \"site\", \"site\", \"sleep\", \"sleeper\", \"small\", \"small\", \"small\", \"small\", \"small\", \"smooth\", \"smoothly\", \"snack\", \"snack\", \"snack\", \"soap\", \"sofa\", \"sofa\", \"solo\", \"soon\", \"soon\", \"sound\", \"sound\", \"space\", \"space\", \"space\", \"space\", \"space\", \"space\", \"spacious\", \"spacious\", \"spacious\", \"spacious\", \"spacious\", \"spacious\", \"spacious\", \"spacious\", \"special\", \"special\", \"special\", \"spectacular\", \"spend\", \"spend\", \"spend\", \"spend\", \"spend\", \"spend\", \"spirito\", \"splendid\", \"stair\", \"stair\", \"steep\", \"stop\", \"strategic\", \"street\", \"street\", \"stroll\", \"strong\", \"structure\", \"stunning\", \"stylish\", \"stylish\", \"stylish\", \"suggestion\", \"suggestion\", \"suggestion\", \"suitcase\", \"suitcase\", \"summer\", \"summer\", \"sunset\", \"super\", \"super\", \"super\", \"super\", \"super\", \"supermarket\", \"supermarket\", \"supermarket\", \"supermarket\", \"supermarket\", \"surely\", \"system\", \"tall\", \"taste\", \"taste\", \"terrace\", \"thing\", \"thing\", \"thing\", \"thing\", \"thing\", \"thing\", \"thoroughly\", \"timely\", \"tip\", \"tiziana\", \"toilet\", \"tommaso\", \"tour\", \"tour\", \"tour\", \"tourist\", \"tourist\", \"tourist\", \"touristy\", \"towel\", \"train\", \"train\", \"train\", \"train\", \"train\", \"train\", \"tram\", \"transport\", \"tuck\", \"uffizi\", \"use\", \"use\", \"use\", \"use\", \"use\", \"useful\", \"useful\", \"useful\", \"valeria\", \"valuable\", \"value\", \"value\", \"value\", \"vecchio\", \"view\", \"visit\", \"visit\", \"visit\", \"visit\", \"visit\", \"visit\", \"wait\", \"wait\", \"wait\", \"wait\", \"walking\", \"walking\", \"want\", \"want\", \"want\", \"want\", \"want\", \"want\", \"want\", \"want\", \"warm\", \"warm\", \"warm\", \"warm\", \"wash\", \"washing\", \"water\", \"water\", \"welcome\", \"welcome\", \"welcome\", \"wifi\", \"wifi\", \"wifi\", \"window\", \"window\", \"wine\", \"wine\", \"wine\", \"wine\", \"winter\", \"wonderful\", \"wonderful\", \"wonderful\", \"wonderful\", \"wonderful\", \"work\", \"work\", \"work\", \"worth\", \"worth\", \"ztl\"]}, \"R\": 30, \"lambda.step\": 0.01, \"plot.opts\": {\"xlab\": \"PC1\", \"ylab\": \"PC2\"}, \"topic.order\": [1, 2, 3, 4, 5, 6, 7, 8]};\n",
       "\n",
       "function LDAvis_load_lib(url, callback){\n",
       "  var s = document.createElement('script');\n",
       "  s.src = url;\n",
       "  s.async = true;\n",
       "  s.onreadystatechange = s.onload = callback;\n",
       "  s.onerror = function(){console.warn(\"failed to load library \" + url);};\n",
       "  document.getElementsByTagName(\"head\")[0].appendChild(s);\n",
       "}\n",
       "\n",
       "if(typeof(LDAvis) !== \"undefined\"){\n",
       "   // already loaded: just create the visualization\n",
       "   !function(LDAvis){\n",
       "       new LDAvis(\"#\" + \"ldavis_el7713859980289449921707526\", ldavis_el7713859980289449921707526_data);\n",
       "   }(LDAvis);\n",
       "}else if(typeof define === \"function\" && define.amd){\n",
       "   // require.js is available: use it to load d3/LDAvis\n",
       "   require.config({paths: {d3: \"https://d3js.org/d3.v5\"}});\n",
       "   require([\"d3\"], function(d3){\n",
       "      window.d3 = d3;\n",
       "      LDAvis_load_lib(\"https://cdn.jsdelivr.net/gh/bmabey/pyLDAvis@3.3.1/pyLDAvis/js/ldavis.v3.0.0.js\", function(){\n",
       "        new LDAvis(\"#\" + \"ldavis_el7713859980289449921707526\", ldavis_el7713859980289449921707526_data);\n",
       "      });\n",
       "    });\n",
       "}else{\n",
       "    // require.js not available: dynamically load d3 & LDAvis\n",
       "    LDAvis_load_lib(\"https://d3js.org/d3.v5.js\", function(){\n",
       "         LDAvis_load_lib(\"https://cdn.jsdelivr.net/gh/bmabey/pyLDAvis@3.3.1/pyLDAvis/js/ldavis.v3.0.0.js\", function(){\n",
       "                 new LDAvis(\"#\" + \"ldavis_el7713859980289449921707526\", ldavis_el7713859980289449921707526_data);\n",
       "            })\n",
       "         });\n",
       "}\n",
       "</script>"
      ],
      "text/plain": [
       "PreparedData(topic_coordinates=              x         y  topics  cluster       Freq\n",
       "topic                                                \n",
       "0     -0.116582  0.287955       1        1   8.874749\n",
       "1     -0.033068  0.135506       2        1  15.833814\n",
       "2     -0.165427 -0.158472       3        1  11.153423\n",
       "3      0.048799 -0.126202       4        1  10.432188\n",
       "4     -0.131129 -0.000426       5        1  12.780142\n",
       "5      0.198828 -0.103341       6        1  17.012538\n",
       "6      0.312008  0.081124       7        1  10.395133\n",
       "7     -0.113429 -0.116145       8        1  13.518010, topic_info=          Term         Freq        Total Category  logprob  loglift\n",
       "90        view  4253.000000  4253.000000  Default  30.0000  30.0000\n",
       "144       give  4642.000000  4642.000000  Default  29.0000  29.0000\n",
       "78       house  5799.000000  5799.000000  Default  28.0000  28.0000\n",
       "562       flat  3305.000000  3305.000000  Default  27.0000  27.0000\n",
       "130      check  4089.000000  4089.000000  Default  26.0000  26.0000\n",
       "..         ...          ...          ...      ...      ...      ...\n",
       "147      super   746.734633  3615.999702   Topic8  -5.0320   0.4237\n",
       "1    available   670.074609  2407.595548   Topic8  -5.1403   0.7222\n",
       "208      photo   631.584319  1806.624424   Topic8  -5.1995   0.9502\n",
       "271       help   641.213539  3124.777117   Topic8  -5.1843   0.4174\n",
       "252      equip   629.968811  2723.503882   Topic8  -5.2020   0.5371\n",
       "\n",
       "[531 rows x 6 columns], token_table=      Topic      Freq        Term\n",
       "term                             \n",
       "330       1  0.462410  absolutely\n",
       "330       2  0.086229  absolutely\n",
       "330       5  0.201202  absolutely\n",
       "330       8  0.249611  absolutely\n",
       "526       1  0.181309  accessible\n",
       "...     ...       ...         ...\n",
       "308       6  0.765538        work\n",
       "308       7  0.111092        work\n",
       "63        1  0.719795       worth\n",
       "63        6  0.279481       worth\n",
       "1674      7  0.992044         ztl\n",
       "\n",
       "[956 rows x 3 columns], R=30, lambda_step=0.01, plot_opts={'xlab': 'PC1', 'ylab': 'PC2'}, topic_order=[1, 2, 3, 4, 5, 6, 7, 8])"
      ]
     },
     "execution_count": 69,
     "metadata": {},
     "output_type": "execute_result"
    }
   ],
   "source": [
    "# To plot inside Jupyter notebook\n",
    "pyLDAvis.enable_notebook()\n",
    "\n",
    "LDAvis_prepared = pyLDAvis.gensim_models.prepare(lda_model_final, corpus, id2word, sort_topics=False)\n",
    "\n",
    "# Save pyLDA plot as html file\n",
    "pyLDAvis.save_html(LDAvis_prepared, './ldavis_prepared_'+ str(num_topics) +'.html')\n",
    "LDAvis_prepared"
   ]
  },
  {
   "cell_type": "markdown",
   "id": "1b9031aa-d5b6-4672-a9b0-16fc564cbe6e",
   "metadata": {},
   "source": [
    "Each bubble on the left-hand side of the plot represents an individual topic. The **larger** the **bubble**, the **more important** is the **topic**.<br>\n",
    "The **distance between the topics** is an approximation of **semantic relationship** between them. Indeed, the topics which share common words are overlapping (closer in distance).\n",
    "Ideally, a good topic model will have fairly big, non-overlapping bubbles scattered throughout the chart instead of being clustered in one.<br>\n",
    "\n",
    "On the right-hand side, the **horizontal bar chart** represents the **words distribution a topic decreasing order of relevance**. The **red bar** indicates the **frequency** of the word **within the selected topic**, while the **blue bar** indicates the **frequency within the corpus** of reviews. <br>\n",
    "\n",
    "**Adjusting λ** (lambda) <br>\n",
    "If λ=1, the relevance is given purely by the probability of the word to that topic. <br>\n",
    "If λ=0, the relevance is given by the probability of a word appearing in a particular topic divided by the probability of the word appearing generally — thus, highly frequent words (such as ‘like’, ‘good’) will be downgraded heavily in relevance when we have a lower λ value.\n",
    "\n",
    "\n",
    "**Some insights**:<br>\n",
    "\n",
    "- The most important topic is **Accomodation features**\n",
    "- The least important topic is **Good feelings**\n",
    "- There is a bit of overalap between topic 3 **Tips** and topic 8 **Good experience**\n",
    "\n"
   ]
  },
  {
   "cell_type": "code",
   "execution_count": 29,
   "id": "b8617ae0-bc4e-4a2c-968a-474603f8cbe4",
   "metadata": {},
   "outputs": [],
   "source": [
    "#df_reviews_sample_sentiment_bitrigrams.to_pickle('./data/df_reviews_sample_topics.pkl')"
   ]
  },
  {
   "cell_type": "markdown",
   "id": "b7964205-7c5f-47a0-b910-f490533d4197",
   "metadata": {},
   "source": [
    "[Back to TOC](#Table-of-Contents:)"
   ]
  },
  {
   "cell_type": "code",
   "execution_count": null,
   "id": "ec2681c5-a904-468e-9ba3-03e569c9e056",
   "metadata": {},
   "outputs": [],
   "source": []
  }
 ],
 "metadata": {
  "kernelspec": {
   "display_name": "Python 3 (ipykernel)",
   "language": "python",
   "name": "python3"
  },
  "language_info": {
   "codemirror_mode": {
    "name": "ipython",
    "version": 3
   },
   "file_extension": ".py",
   "mimetype": "text/x-python",
   "name": "python",
   "nbconvert_exporter": "python",
   "pygments_lexer": "ipython3",
   "version": "3.9.6"
  }
 },
 "nbformat": 4,
 "nbformat_minor": 5
}
